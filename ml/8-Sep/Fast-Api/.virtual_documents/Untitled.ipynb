import pandas as pd
import numpy as np


df = pd.read_csv("loan_approval_dataset.csv")
df.head()


df.columns


df.columns = [c.strip() for c in df.columns]


X = df.drop(columns=["loan_id","loan_status"])
y = df['loan_status']


X.head()


y.head()


y = y.map({" Approved":1, " Rejected":0})


X['education'].unique()


X["self_employed"].unique()


X['education'] = X['education'].map({' Graduate':1, ' Not Graduate':0})
X['self_employed'] = X['self_employed'].map({' Yes':1, ' No':0})


X.head()


y


from sklearn.model_selection import train_test_split
from sklearn.ensemble import RandomForestClassifier


X_train,X_test,y_train,y_test = train_test_split(X,y,test_size=0.2, random_state=6)


rf = RandomForestClassifier()
rf.fit(X_train,y_train)


y_pred_test = rf.predict(X_test)


from sklearn.metrics import accuracy_score
accuracy_score(y_test,y_pred_test)


# Serialization
import joblib
joblib.dump(rf, "final_model.joblib")



