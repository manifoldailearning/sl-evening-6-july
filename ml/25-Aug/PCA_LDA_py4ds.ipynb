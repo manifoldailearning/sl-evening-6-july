{
  "nbformat": 4,
  "nbformat_minor": 0,
  "metadata": {
    "colab": {
      "provenance": []
    },
    "kernelspec": {
      "name": "python3",
      "display_name": "Python 3"
    },
    "language_info": {
      "name": "python"
    }
  },
  "cells": [
    {
      "cell_type": "code",
      "execution_count": 1,
      "metadata": {
        "id": "9pbiWuO9LCMP"
      },
      "outputs": [],
      "source": [
        "import pandas as pd\n",
        "import numpy as np\n",
        "from sklearn.datasets import load_digits,load_iris\n",
        "import matplotlib.pyplot as plt"
      ]
    },
    {
      "cell_type": "code",
      "source": [
        "digits = load_digits()"
      ],
      "metadata": {
        "id": "FdGlCe_yLTey"
      },
      "execution_count": 2,
      "outputs": []
    },
    {
      "cell_type": "code",
      "source": [
        "X = digits.data\n",
        "y = digits.target\n",
        "\n",
        "print(X.shape)"
      ],
      "metadata": {
        "colab": {
          "base_uri": "https://localhost:8080/"
        },
        "id": "E53yclobLWcK",
        "outputId": "8129b240-3d5c-40f2-d0a8-c471a046d7f4"
      },
      "execution_count": 3,
      "outputs": [
        {
          "output_type": "stream",
          "name": "stdout",
          "text": [
            "(1797, 64)\n"
          ]
        }
      ]
    },
    {
      "cell_type": "code",
      "source": [
        "type(y)"
      ],
      "metadata": {
        "colab": {
          "base_uri": "https://localhost:8080/"
        },
        "id": "vq6ITFmrUM0o",
        "outputId": "ea8d1ca7-4d4f-4212-b081-21a3b00dedc4"
      },
      "execution_count": 4,
      "outputs": [
        {
          "output_type": "execute_result",
          "data": {
            "text/plain": [
              "numpy.ndarray"
            ]
          },
          "metadata": {},
          "execution_count": 4
        }
      ]
    },
    {
      "cell_type": "code",
      "source": [
        "pd.Series(y).unique()"
      ],
      "metadata": {
        "colab": {
          "base_uri": "https://localhost:8080/"
        },
        "id": "1RD0KsNzUOzn",
        "outputId": "53c6f039-15e0-4b0c-806a-e03ec6e4bc55"
      },
      "execution_count": 5,
      "outputs": [
        {
          "output_type": "execute_result",
          "data": {
            "text/plain": [
              "array([0, 1, 2, 3, 4, 5, 6, 7, 8, 9])"
            ]
          },
          "metadata": {},
          "execution_count": 5
        }
      ]
    },
    {
      "cell_type": "code",
      "source": [
        "X[0]"
      ],
      "metadata": {
        "colab": {
          "base_uri": "https://localhost:8080/"
        },
        "id": "QwFITWLMLdgk",
        "outputId": "c9ff646f-5ebc-4481-9edf-3c5a7785a7dd"
      },
      "execution_count": 6,
      "outputs": [
        {
          "output_type": "execute_result",
          "data": {
            "text/plain": [
              "array([ 0.,  0.,  5., 13.,  9.,  1.,  0.,  0.,  0.,  0., 13., 15., 10.,\n",
              "       15.,  5.,  0.,  0.,  3., 15.,  2.,  0., 11.,  8.,  0.,  0.,  4.,\n",
              "       12.,  0.,  0.,  8.,  8.,  0.,  0.,  5.,  8.,  0.,  0.,  9.,  8.,\n",
              "        0.,  0.,  4., 11.,  0.,  1., 12.,  7.,  0.,  0.,  2., 14.,  5.,\n",
              "       10., 12.,  0.,  0.,  0.,  0.,  6., 13., 10.,  0.,  0.,  0.])"
            ]
          },
          "metadata": {},
          "execution_count": 6
        }
      ]
    },
    {
      "cell_type": "code",
      "source": [
        "plt.matshow(X[0].reshape(8,8))\n",
        "plt.show()"
      ],
      "metadata": {
        "colab": {
          "base_uri": "https://localhost:8080/",
          "height": 437
        },
        "id": "YRLEz8B6LmrW",
        "outputId": "8249f58b-1b80-43ba-b92f-80480eddec18"
      },
      "execution_count": 7,
      "outputs": [
        {
          "output_type": "display_data",
          "data": {
            "text/plain": [
              "<Figure size 480x480 with 1 Axes>"
            ],
            "image/png": "[encoded data removed]"
          },
          "metadata": {}
        }
      ]
    },
    {
      "cell_type": "code",
      "source": [
        "y[0]"
      ],
      "metadata": {
        "colab": {
          "base_uri": "https://localhost:8080/"
        },
        "id": "vuOYegpnLuvC",
        "outputId": "56c0f72d-6cdc-4fa7-fd42-893d5b2e98ee"
      },
      "execution_count": 8,
      "outputs": [
        {
          "output_type": "execute_result",
          "data": {
            "text/plain": [
              "0"
            ]
          },
          "metadata": {},
          "execution_count": 8
        }
      ]
    },
    {
      "cell_type": "code",
      "source": [
        "np.max(X)"
      ],
      "metadata": {
        "colab": {
          "base_uri": "https://localhost:8080/"
        },
        "id": "j_oA1tF9MBSJ",
        "outputId": "d350f37f-f792-47d2-b998-3a85f4b14a28"
      },
      "execution_count": 9,
      "outputs": [
        {
          "output_type": "execute_result",
          "data": {
            "text/plain": [
              "16.0"
            ]
          },
          "metadata": {},
          "execution_count": 9
        }
      ]
    },
    {
      "cell_type": "code",
      "source": [
        "np.min(X)"
      ],
      "metadata": {
        "colab": {
          "base_uri": "https://localhost:8080/"
        },
        "id": "m-Lqy958MDRW",
        "outputId": "a2e4c5f4-f30f-49f9-bf5f-1fe99175cc31"
      },
      "execution_count": 10,
      "outputs": [
        {
          "output_type": "execute_result",
          "data": {
            "text/plain": [
              "0.0"
            ]
          },
          "metadata": {},
          "execution_count": 10
        }
      ]
    },
    {
      "cell_type": "markdown",
      "source": [
        "# Normalization"
      ],
      "metadata": {
        "id": "1sijSAKBMIGX"
      }
    },
    {
      "cell_type": "code",
      "source": [
        "X = X/16.0\n",
        "np.max(X), np.min(X)"
      ],
      "metadata": {
        "colab": {
          "base_uri": "https://localhost:8080/"
        },
        "id": "ObRIqDovMKOc",
        "outputId": "afefaaaa-c441-478c-8e16-7a933b04c546"
      },
      "execution_count": 11,
      "outputs": [
        {
          "output_type": "execute_result",
          "data": {
            "text/plain": [
              "(1.0, 0.0)"
            ]
          },
          "metadata": {},
          "execution_count": 11
        }
      ]
    },
    {
      "cell_type": "markdown",
      "source": [
        "# PCA"
      ],
      "metadata": {
        "id": "F1O3Fm0DMAKC"
      }
    },
    {
      "cell_type": "code",
      "source": [
        "from sklearn.decomposition import PCA\n",
        "pca = PCA() #n_components = None"
      ],
      "metadata": {
        "id": "Cp1v2xl8L3xb"
      },
      "execution_count": 12,
      "outputs": []
    },
    {
      "cell_type": "code",
      "source": [
        "X_pca = pca.fit_transform(X)"
      ],
      "metadata": {
        "id": "Eq1vEv4JMmHg"
      },
      "execution_count": 13,
      "outputs": []
    },
    {
      "cell_type": "code",
      "source": [
        "pd.DataFrame(X_pca)"
      ],
      "metadata": {
        "colab": {
          "base_uri": "https://localhost:8080/",
          "height": 617
        },
        "id": "9H0x2fH8Xadp",
        "outputId": "abb0515d-040a-4826-fed5-93d69080b3b6"
      },
      "execution_count": 14,
      "outputs": [
        {
          "output_type": "execute_result",
          "data": {
            "text/plain": [
              "            0         1         2         3         4         5         6   \\\n",
              "0    -0.078717  1.329680 -0.591441  0.813387 -0.445551 -0.465041  0.203302   \n",
              "1     0.497351 -1.298044  0.277469 -0.930854  0.368516 -0.405351  0.132889   \n",
              "2     0.436995 -0.622249  0.184910 -0.768019 -1.132876 -0.281729  0.115195   \n",
              "3    -0.994132  0.208279  0.614023 -0.767240  0.435323  0.068093 -0.065130   \n",
              "4     1.456679  0.266816 -0.354696 -0.865720 -0.022383 -0.178598 -0.045031   \n",
              "...        ...       ...       ...       ...       ...       ...       ...   \n",
              "1792 -0.912914  0.834008 -0.839940 -0.406434  0.236717 -0.170615 -0.277020   \n",
              "1793  0.404036  1.285456 -0.572194  0.784631 -0.563499 -0.856697  0.239455   \n",
              "1794  0.675080 -0.435016  0.349972 -0.451733 -0.216228 -0.773450 -0.280612   \n",
              "1795 -0.304506  0.776497 -0.635679 -0.416803  0.223066 -0.000244 -0.187171   \n",
              "1796 -0.021524  0.397847  0.673357 -0.482888 -0.206913 -0.190566 -0.725750   \n",
              "\n",
              "            7         8         9   ...        54        55        56  \\\n",
              "0     0.159592 -0.036365  0.226606  ... -0.003049 -0.000114  0.000694   \n",
              "1    -0.288496  0.224216 -0.067169  ... -0.002334 -0.000041 -0.002414   \n",
              "2    -1.025950  0.044952  0.265988  ... -0.011355 -0.005336  0.001598   \n",
              "3     0.685847 -0.203733  0.406172  ... -0.000100 -0.000734 -0.004232   \n",
              "4     0.815106 -0.239713  0.838385  ... -0.001143 -0.003369 -0.000620   \n",
              "...        ...       ...       ...  ...       ...       ...       ...   \n",
              "1792 -0.244647  0.457558 -0.528074  ... -0.000502  0.000024  0.000158   \n",
              "1793 -0.234766 -0.449550 -0.327490  ... -0.002815 -0.001128 -0.000047   \n",
              "1794 -0.463442 -0.247599 -0.816568  ...  0.004286  0.001426  0.000338   \n",
              "1795 -0.272368  0.246203 -0.821578  ... -0.000530  0.000234  0.000295   \n",
              "1796  0.041814 -0.257073 -0.785125  ... -0.016811  0.000205  0.001632   \n",
              "\n",
              "            57        58        59        60            61            62  \\\n",
              "0    -0.000097  0.000515  0.000134  0.000065  0.000000e+00  0.000000e+00   \n",
              "1    -0.000183 -0.000044 -0.000279 -0.000160  1.203117e-16 -3.785138e-17   \n",
              "2     0.000139  0.000176 -0.000032 -0.000824  6.420973e-17 -1.042003e-17   \n",
              "3    -0.000165  0.000097  0.000053  0.000121 -4.638498e-17 -2.325555e-17   \n",
              "4    -0.001246  0.000279  0.000102  0.000432  6.752990e-17 -3.394920e-17   \n",
              "...        ...       ...       ...       ...           ...           ...   \n",
              "1792 -0.000561 -0.000284  0.000359  0.000035  8.854408e-18  6.914684e-19   \n",
              "1793  0.000495  0.000421  0.000272  0.000220 -1.466880e-17  8.919865e-18   \n",
              "1794  0.000775 -0.000132 -0.000045  0.000153 -8.177356e-18  1.600608e-17   \n",
              "1795 -0.001038  0.000503 -0.000204 -0.000055  3.733775e-18  6.171809e-18   \n",
              "1796 -0.000139  0.000082 -0.000078 -0.001049 -9.412745e-18 -8.185794e-19   \n",
              "\n",
              "                63  \n",
              "0     2.788382e-15  \n",
              "1     1.044040e-17  \n",
              "2     7.290891e-18  \n",
              "3     4.843797e-18  \n",
              "4     3.056840e-18  \n",
              "...            ...  \n",
              "1792 -4.007189e-18  \n",
              "1793 -6.210792e-18  \n",
              "1794  6.067562e-18  \n",
              "1795 -7.735180e-18  \n",
              "1796  1.691694e-17  \n",
              "\n",
              "[1797 rows x 64 columns]"
            ],
            "text/html": [
              "\n",
              "  <div id=\"df-f770751e-93dc-4cfd-8134-29a768ed4798\" class=\"colab-df-container\">\n",
              "    <div>\n",
              "<style scoped>\n",
              "    .dataframe tbody tr th:only-of-type {\n",
              "        vertical-align: middle;\n",
              "    }\n",
              "\n",
              "    .dataframe tbody tr th {\n",
              "        vertical-align: top;\n",
              "    }\n",
              "\n",
              "    .dataframe thead th {\n",
              "        text-align: right;\n",
              "    }\n",
              "</style>\n",
              "<table border=\"1\" class=\"dataframe\">\n",
              "  <thead>\n",
              "    <tr style=\"text-align: right;\">\n",
              "      <th></th>\n",
              "      <th>0</th>\n",
              "      <th>1</th>\n",
              "      <th>2</th>\n",
              "      <th>3</th>\n",
              "      <th>4</th>\n",
              "      <th>5</th>\n",
              "      <th>6</th>\n",
              "      <th>7</th>\n",
              "      <th>8</th>\n",
              "      <th>9</th>\n",
              "      <th>...</th>\n",
              "      <th>54</th>\n",
              "      <th>55</th>\n",
              "      <th>56</th>\n",
              "      <th>57</th>\n",
              "      <th>58</th>\n",
              "      <th>59</th>\n",
              "      <th>60</th>\n",
              "      <th>61</th>\n",
              "      <th>62</th>\n",
              "      <th>63</th>\n",
              "    </tr>\n",
              "  </thead>\n",
              "  <tbody>\n",
              "    <tr>\n",
              "      <th>0</th>\n",
              "      <td>-0.078717</td>\n",
              "      <td>1.329680</td>\n",
              "      <td>-0.591441</td>\n",
              "      <td>0.813387</td>\n",
              "      <td>-0.445551</td>\n",
              "      <td>-0.465041</td>\n",
              "      <td>0.203302</td>\n",
              "      <td>0.159592</td>\n",
              "      <td>-0.036365</td>\n",
              "      <td>0.226606</td>\n",
              "      <td>...</td>\n",
              "      <td>-0.003049</td>\n",
              "      <td>-0.000114</td>\n",
              "      <td>0.000694</td>\n",
              "      <td>-0.000097</td>\n",
              "      <td>0.000515</td>\n",
              "      <td>0.000134</td>\n",
              "      <td>0.000065</td>\n",
              "      <td>0.000000e+00</td>\n",
              "      <td>0.000000e+00</td>\n",
              "      <td>2.788382e-15</td>\n",
              "    </tr>\n",
              "    <tr>\n",
              "      <th>1</th>\n",
              "      <td>0.497351</td>\n",
              "      <td>-1.298044</td>\n",
              "      <td>0.277469</td>\n",
              "      <td>-0.930854</td>\n",
              "      <td>0.368516</td>\n",
              "      <td>-0.405351</td>\n",
              "      <td>0.132889</td>\n",
              "      <td>-0.288496</td>\n",
              "      <td>0.224216</td>\n",
              "      <td>-0.067169</td>\n",
              "      <td>...</td>\n",
              "      <td>-0.002334</td>\n",
              "      <td>-0.000041</td>\n",
              "      <td>-0.002414</td>\n",
              "      <td>-0.000183</td>\n",
              "      <td>-0.000044</td>\n",
              "      <td>-0.000279</td>\n",
              "      <td>-0.000160</td>\n",
              "      <td>1.203117e-16</td>\n",
              "      <td>-3.785138e-17</td>\n",
              "      <td>1.044040e-17</td>\n",
              "    </tr>\n",
              "    <tr>\n",
              "      <th>2</th>\n",
              "      <td>0.436995</td>\n",
              "      <td>-0.622249</td>\n",
              "      <td>0.184910</td>\n",
              "      <td>-0.768019</td>\n",
              "      <td>-1.132876</td>\n",
              "      <td>-0.281729</td>\n",
              "      <td>0.115195</td>\n",
              "      <td>-1.025950</td>\n",
              "      <td>0.044952</td>\n",
              "      <td>0.265988</td>\n",
              "      <td>...</td>\n",
              "      <td>-0.011355</td>\n",
              "      <td>-0.005336</td>\n",
              "      <td>0.001598</td>\n",
              "      <td>0.000139</td>\n",
              "      <td>0.000176</td>\n",
              "      <td>-0.000032</td>\n",
              "      <td>-0.000824</td>\n",
              "      <td>6.420973e-17</td>\n",
              "      <td>-1.042003e-17</td>\n",
              "      <td>7.290891e-18</td>\n",
              "    </tr>\n",
              "    <tr>\n",
              "      <th>3</th>\n",
              "      <td>-0.994132</td>\n",
              "      <td>0.208279</td>\n",
              "      <td>0.614023</td>\n",
              "      <td>-0.767240</td>\n",
              "      <td>0.435323</td>\n",
              "      <td>0.068093</td>\n",
              "      <td>-0.065130</td>\n",
              "      <td>0.685847</td>\n",
              "      <td>-0.203733</td>\n",
              "      <td>0.406172</td>\n",
              "      <td>...</td>\n",
              "      <td>-0.000100</td>\n",
              "      <td>-0.000734</td>\n",
              "      <td>-0.004232</td>\n",
              "      <td>-0.000165</td>\n",
              "      <td>0.000097</td>\n",
              "      <td>0.000053</td>\n",
              "      <td>0.000121</td>\n",
              "      <td>-4.638498e-17</td>\n",
              "      <td>-2.325555e-17</td>\n",
              "      <td>4.843797e-18</td>\n",
              "    </tr>\n",
              "    <tr>\n",
              "      <th>4</th>\n",
              "      <td>1.456679</td>\n",
              "      <td>0.266816</td>\n",
              "      <td>-0.354696</td>\n",
              "      <td>-0.865720</td>\n",
              "      <td>-0.022383</td>\n",
              "      <td>-0.178598</td>\n",
              "      <td>-0.045031</td>\n",
              "      <td>0.815106</td>\n",
              "      <td>-0.239713</td>\n",
              "      <td>0.838385</td>\n",
              "      <td>...</td>\n",
              "      <td>-0.001143</td>\n",
              "      <td>-0.003369</td>\n",
              "      <td>-0.000620</td>\n",
              "      <td>-0.001246</td>\n",
              "      <td>0.000279</td>\n",
              "      <td>0.000102</td>\n",
              "      <td>0.000432</td>\n",
              "      <td>6.752990e-17</td>\n",
              "      <td>-3.394920e-17</td>\n",
              "      <td>3.056840e-18</td>\n",
              "    </tr>\n",
              "    <tr>\n",
              "      <th>...</th>\n",
              "      <td>...</td>\n",
              "      <td>...</td>\n",
              "      <td>...</td>\n",
              "      <td>...</td>\n",
              "      <td>...</td>\n",
              "      <td>...</td>\n",
              "      <td>...</td>\n",
              "      <td>...</td>\n",
              "      <td>...</td>\n",
              "      <td>...</td>\n",
              "      <td>...</td>\n",
              "      <td>...</td>\n",
              "      <td>...</td>\n",
              "      <td>...</td>\n",
              "      <td>...</td>\n",
              "      <td>...</td>\n",
              "      <td>...</td>\n",
              "      <td>...</td>\n",
              "      <td>...</td>\n",
              "      <td>...</td>\n",
              "      <td>...</td>\n",
              "    </tr>\n",
              "    <tr>\n",
              "      <th>1792</th>\n",
              "      <td>-0.912914</td>\n",
              "      <td>0.834008</td>\n",
              "      <td>-0.839940</td>\n",
              "      <td>-0.406434</td>\n",
              "      <td>0.236717</td>\n",
              "      <td>-0.170615</td>\n",
              "      <td>-0.277020</td>\n",
              "      <td>-0.244647</td>\n",
              "      <td>0.457558</td>\n",
              "      <td>-0.528074</td>\n",
              "      <td>...</td>\n",
              "      <td>-0.000502</td>\n",
              "      <td>0.000024</td>\n",
              "      <td>0.000158</td>\n",
              "      <td>-0.000561</td>\n",
              "      <td>-0.000284</td>\n",
              "      <td>0.000359</td>\n",
              "      <td>0.000035</td>\n",
              "      <td>8.854408e-18</td>\n",
              "      <td>6.914684e-19</td>\n",
              "      <td>-4.007189e-18</td>\n",
              "    </tr>\n",
              "    <tr>\n",
              "      <th>1793</th>\n",
              "      <td>0.404036</td>\n",
              "      <td>1.285456</td>\n",
              "      <td>-0.572194</td>\n",
              "      <td>0.784631</td>\n",
              "      <td>-0.563499</td>\n",
              "      <td>-0.856697</td>\n",
              "      <td>0.239455</td>\n",
              "      <td>-0.234766</td>\n",
              "      <td>-0.449550</td>\n",
              "      <td>-0.327490</td>\n",
              "      <td>...</td>\n",
              "      <td>-0.002815</td>\n",
              "      <td>-0.001128</td>\n",
              "      <td>-0.000047</td>\n",
              "      <td>0.000495</td>\n",
              "      <td>0.000421</td>\n",
              "      <td>0.000272</td>\n",
              "      <td>0.000220</td>\n",
              "      <td>-1.466880e-17</td>\n",
              "      <td>8.919865e-18</td>\n",
              "      <td>-6.210792e-18</td>\n",
              "    </tr>\n",
              "    <tr>\n",
              "      <th>1794</th>\n",
              "      <td>0.675080</td>\n",
              "      <td>-0.435016</td>\n",
              "      <td>0.349972</td>\n",
              "      <td>-0.451733</td>\n",
              "      <td>-0.216228</td>\n",
              "      <td>-0.773450</td>\n",
              "      <td>-0.280612</td>\n",
              "      <td>-0.463442</td>\n",
              "      <td>-0.247599</td>\n",
              "      <td>-0.816568</td>\n",
              "      <td>...</td>\n",
              "      <td>0.004286</td>\n",
              "      <td>0.001426</td>\n",
              "      <td>0.000338</td>\n",
              "      <td>0.000775</td>\n",
              "      <td>-0.000132</td>\n",
              "      <td>-0.000045</td>\n",
              "      <td>0.000153</td>\n",
              "      <td>-8.177356e-18</td>\n",
              "      <td>1.600608e-17</td>\n",
              "      <td>6.067562e-18</td>\n",
              "    </tr>\n",
              "    <tr>\n",
              "      <th>1795</th>\n",
              "      <td>-0.304506</td>\n",
              "      <td>0.776497</td>\n",
              "      <td>-0.635679</td>\n",
              "      <td>-0.416803</td>\n",
              "      <td>0.223066</td>\n",
              "      <td>-0.000244</td>\n",
              "      <td>-0.187171</td>\n",
              "      <td>-0.272368</td>\n",
              "      <td>0.246203</td>\n",
              "      <td>-0.821578</td>\n",
              "      <td>...</td>\n",
              "      <td>-0.000530</td>\n",
              "      <td>0.000234</td>\n",
              "      <td>0.000295</td>\n",
              "      <td>-0.001038</td>\n",
              "      <td>0.000503</td>\n",
              "      <td>-0.000204</td>\n",
              "      <td>-0.000055</td>\n",
              "      <td>3.733775e-18</td>\n",
              "      <td>6.171809e-18</td>\n",
              "      <td>-7.735180e-18</td>\n",
              "    </tr>\n",
              "    <tr>\n",
              "      <th>1796</th>\n",
              "      <td>-0.021524</td>\n",
              "      <td>0.397847</td>\n",
              "      <td>0.673357</td>\n",
              "      <td>-0.482888</td>\n",
              "      <td>-0.206913</td>\n",
              "      <td>-0.190566</td>\n",
              "      <td>-0.725750</td>\n",
              "      <td>0.041814</td>\n",
              "      <td>-0.257073</td>\n",
              "      <td>-0.785125</td>\n",
              "      <td>...</td>\n",
              "      <td>-0.016811</td>\n",
              "      <td>0.000205</td>\n",
              "      <td>0.001632</td>\n",
              "      <td>-0.000139</td>\n",
              "      <td>0.000082</td>\n",
              "      <td>-0.000078</td>\n",
              "      <td>-0.001049</td>\n",
              "      <td>-9.412745e-18</td>\n",
              "      <td>-8.185794e-19</td>\n",
              "      <td>1.691694e-17</td>\n",
              "    </tr>\n",
              "  </tbody>\n",
              "</table>\n",
              "<p>1797 rows × 64 columns</p>\n",
              "</div>\n",
              "    <div class=\"colab-df-buttons\">\n",
              "\n",
              "  <div class=\"colab-df-container\">\n",
              "    <button class=\"colab-df-convert\" onclick=\"convertToInteractive('df-f770751e-93dc-4cfd-8134-29a768ed4798')\"\n",
              "            title=\"Convert this dataframe to an interactive table.\"\n",
              "            style=\"display:none;\">\n",
              "\n",
              "  <svg xmlns=\"http://www.w3.org/2000/svg\" height=\"24px\" viewBox=\"0 -960 960 960\">\n",
              "    <path d=\"M120-120v-720h720v720H120Zm60-500h600v-160H180v160Zm220 220h160v-160H400v160Zm0 220h160v-160H400v160ZM180-400h160v-160H180v160Zm440 0h160v-160H620v160ZM180-180h160v-160H180v160Zm440 0h160v-160H620v160Z\"/>\n",
              "  </svg>\n",
              "    </button>\n",
              "\n",
              "  <style>\n",
              "    .colab-df-container {\n",
              "      display:flex;\n",
              "      gap: 12px;\n",
              "    }\n",
              "\n",
              "    .colab-df-convert {\n",
              "      background-color: #E8F0FE;\n",
              "      border: none;\n",
              "      border-radius: 50%;\n",
              "      cursor: pointer;\n",
              "      display: none;\n",
              "      fill: #1967D2;\n",
              "      height: 32px;\n",
              "      padding: 0 0 0 0;\n",
              "      width: 32px;\n",
              "    }\n",
              "\n",
              "    .colab-df-convert:hover {\n",
              "      background-color: #E2EBFA;\n",
              "      box-shadow: 0px 1px 2px rgba(60, 64, 67, 0.3), 0px 1px 3px 1px rgba(60, 64, 67, 0.15);\n",
              "      fill: #174EA6;\n",
              "    }\n",
              "\n",
              "    .colab-df-buttons div {\n",
              "      margin-bottom: 4px;\n",
              "    }\n",
              "\n",
              "    [theme=dark] .colab-df-convert {\n",
              "      background-color: #3B4455;\n",
              "      fill: #D2E3FC;\n",
              "    }\n",
              "\n",
              "    [theme=dark] .colab-df-convert:hover {\n",
              "      background-color: #434B5C;\n",
              "      box-shadow: 0px 1px 3px 1px rgba(0, 0, 0, 0.15);\n",
              "      filter: drop-shadow(0px 1px 2px rgba(0, 0, 0, 0.3));\n",
              "      fill: #FFFFFF;\n",
              "    }\n",
              "  </style>\n",
              "\n",
              "    <script>\n",
              "      const buttonEl =\n",
              "        document.querySelector('#df-f770751e-93dc-4cfd-8134-29a768ed4798 button.colab-df-convert');\n",
              "      buttonEl.style.display =\n",
              "        google.colab.kernel.accessAllowed ? 'block' : 'none';\n",
              "\n",
              "      async function convertToInteractive(key) {\n",
              "        const element = document.querySelector('#df-f770751e-93dc-4cfd-8134-29a768ed4798');\n",
              "        const dataTable =\n",
              "          await google.colab.kernel.invokeFunction('convertToInteractive',\n",
              "                                                    [key], {});\n",
              "        if (!dataTable) return;\n",
              "\n",
              "        const docLinkHtml = 'Like what you see? Visit the ' +\n",
              "          '<a target=\"_blank\" href=https://colab.research.google.com/notebooks/data_table.ipynb>data table notebook</a>'\n",
              "          + ' to learn more about interactive tables.';\n",
              "        element.innerHTML = '';\n",
              "        dataTable['output_type'] = 'display_data';\n",
              "        await google.colab.output.renderOutput(dataTable, element);\n",
              "        const docLink = document.createElement('div');\n",
              "        docLink.innerHTML = docLinkHtml;\n",
              "        element.appendChild(docLink);\n",
              "      }\n",
              "    </script>\n",
              "  </div>\n",
              "\n",
              "\n",
              "<div id=\"df-287bf650-5ccd-46fb-ab97-ec9ae1a9b363\">\n",
              "  <button class=\"colab-df-quickchart\" onclick=\"quickchart('df-287bf650-5ccd-46fb-ab97-ec9ae1a9b363')\"\n",
              "            title=\"Suggest charts\"\n",
              "            style=\"display:none;\">\n",
              "\n",
              "<svg xmlns=\"http://www.w3.org/2000/svg\" height=\"24px\"viewBox=\"0 0 24 24\"\n",
              "     width=\"24px\">\n",
              "    <g>\n",
              "        <path d=\"M19 3H5c-1.1 0-2 .9-2 2v14c0 1.1.9 2 2 2h14c1.1 0 2-.9 2-2V5c0-1.1-.9-2-2-2zM9 17H7v-7h2v7zm4 0h-2V7h2v10zm4 0h-2v-4h2v4z\"/>\n",
              "    </g>\n",
              "</svg>\n",
              "  </button>\n",
              "\n",
              "<style>\n",
              "  .colab-df-quickchart {\n",
              "      --bg-color: #E8F0FE;\n",
              "      --fill-color: #1967D2;\n",
              "      --hover-bg-color: #E2EBFA;\n",
              "      --hover-fill-color: #174EA6;\n",
              "      --disabled-fill-color: #AAA;\n",
              "      --disabled-bg-color: #DDD;\n",
              "  }\n",
              "\n",
              "  [theme=dark] .colab-df-quickchart {\n",
              "      --bg-color: #3B4455;\n",
              "      --fill-color: #D2E3FC;\n",
              "      --hover-bg-color: #434B5C;\n",
              "      --hover-fill-color: #FFFFFF;\n",
              "      --disabled-bg-color: #3B4455;\n",
              "      --disabled-fill-color: #666;\n",
              "  }\n",
              "\n",
              "  .colab-df-quickchart {\n",
              "    background-color: var(--bg-color);\n",
              "    border: none;\n",
              "    border-radius: 50%;\n",
              "    cursor: pointer;\n",
              "    display: none;\n",
              "    fill: var(--fill-color);\n",
              "    height: 32px;\n",
              "    padding: 0;\n",
              "    width: 32px;\n",
              "  }\n",
              "\n",
              "  .colab-df-quickchart:hover {\n",
              "    background-color: var(--hover-bg-color);\n",
              "    box-shadow: 0 1px 2px rgba(60, 64, 67, 0.3), 0 1px 3px 1px rgba(60, 64, 67, 0.15);\n",
              "    fill: var(--button-hover-fill-color);\n",
              "  }\n",
              "\n",
              "  .colab-df-quickchart-complete:disabled,\n",
              "  .colab-df-quickchart-complete:disabled:hover {\n",
              "    background-color: var(--disabled-bg-color);\n",
              "    fill: var(--disabled-fill-color);\n",
              "    box-shadow: none;\n",
              "  }\n",
              "\n",
              "  .colab-df-spinner {\n",
              "    border: 2px solid var(--fill-color);\n",
              "    border-color: transparent;\n",
              "    border-bottom-color: var(--fill-color);\n",
              "    animation:\n",
              "      spin 1s steps(1) infinite;\n",
              "  }\n",
              "\n",
              "  @keyframes spin {\n",
              "    0% {\n",
              "      border-color: transparent;\n",
              "      border-bottom-color: var(--fill-color);\n",
              "      border-left-color: var(--fill-color);\n",
              "    }\n",
              "    20% {\n",
              "      border-color: transparent;\n",
              "      border-left-color: var(--fill-color);\n",
              "      border-top-color: var(--fill-color);\n",
              "    }\n",
              "    30% {\n",
              "      border-color: transparent;\n",
              "      border-left-color: var(--fill-color);\n",
              "      border-top-color: var(--fill-color);\n",
              "      border-right-color: var(--fill-color);\n",
              "    }\n",
              "    40% {\n",
              "      border-color: transparent;\n",
              "      border-right-color: var(--fill-color);\n",
              "      border-top-color: var(--fill-color);\n",
              "    }\n",
              "    60% {\n",
              "      border-color: transparent;\n",
              "      border-right-color: var(--fill-color);\n",
              "    }\n",
              "    80% {\n",
              "      border-color: transparent;\n",
              "      border-right-color: var(--fill-color);\n",
              "      border-bottom-color: var(--fill-color);\n",
              "    }\n",
              "    90% {\n",
              "      border-color: transparent;\n",
              "      border-bottom-color: var(--fill-color);\n",
              "    }\n",
              "  }\n",
              "</style>\n",
              "\n",
              "  <script>\n",
              "    async function quickchart(key) {\n",
              "      const quickchartButtonEl =\n",
              "        document.querySelector('#' + key + ' button');\n",
              "      quickchartButtonEl.disabled = true;  // To prevent multiple clicks.\n",
              "      quickchartButtonEl.classList.add('colab-df-spinner');\n",
              "      try {\n",
              "        const charts = await google.colab.kernel.invokeFunction(\n",
              "            'suggestCharts', [key], {});\n",
              "      } catch (error) {\n",
              "        console.error('Error during call to suggestCharts:', error);\n",
              "      }\n",
              "      quickchartButtonEl.classList.remove('colab-df-spinner');\n",
              "      quickchartButtonEl.classList.add('colab-df-quickchart-complete');\n",
              "    }\n",
              "    (() => {\n",
              "      let quickchartButtonEl =\n",
              "        document.querySelector('#df-287bf650-5ccd-46fb-ab97-ec9ae1a9b363 button');\n",
              "      quickchartButtonEl.style.display =\n",
              "        google.colab.kernel.accessAllowed ? 'block' : 'none';\n",
              "    })();\n",
              "  </script>\n",
              "</div>\n",
              "\n",
              "    </div>\n",
              "  </div>\n"
            ],
            "application/vnd.google.colaboratory.intrinsic+json": {
              "type": "dataframe"
            }
          },
          "metadata": {},
          "execution_count": 14
        }
      ]
    },
    {
      "cell_type": "code",
      "source": [
        "X_pca[0]"
      ],
      "metadata": {
        "colab": {
          "base_uri": "https://localhost:8080/"
        },
        "id": "7MCmu1ZcMsBc",
        "outputId": "e8aeebe8-ddf1-4f9a-dfb6-1564b8456e8e"
      },
      "execution_count": 15,
      "outputs": [
        {
          "output_type": "execute_result",
          "data": {
            "text/plain": [
              "array([-7.87166531e-02,  1.32968022e+00, -5.91440914e-01,  8.13386793e-01,\n",
              "       -4.45551424e-01, -4.65041173e-01,  2.03302322e-01,  1.59591897e-01,\n",
              "       -3.63651339e-02,  2.26606060e-01,  1.61622305e-01,  9.69754425e-02,\n",
              "        5.34060443e-02, -2.08671834e-01,  3.69161855e-01,  1.71474587e-01,\n",
              "        2.62398067e-02, -5.61343558e-02,  4.39131791e-02, -2.16382417e-01,\n",
              "        1.67553099e-01,  6.30905941e-02,  1.25606423e-01,  8.09571742e-02,\n",
              "        7.36799207e-02,  1.43786366e-01,  2.29420067e-01, -5.89793063e-02,\n",
              "       -7.07813721e-02,  1.47487219e-01, -1.13586621e-01, -4.71885178e-02,\n",
              "        1.01776131e-02, -1.32061087e-01,  6.84264491e-02,  1.22303458e-02,\n",
              "       -5.62460081e-03, -1.72733792e-01,  6.80552010e-02,  1.28752505e-02,\n",
              "        1.06531958e-01,  3.63323987e-02,  4.45436495e-02, -1.17524292e-02,\n",
              "        3.92695877e-02, -3.71866815e-02,  2.98077067e-03, -4.45808794e-02,\n",
              "       -2.12072004e-02,  2.69371306e-03, -2.63375715e-02, -7.61797452e-03,\n",
              "       -3.95800856e-03, -3.56397538e-03, -3.04908944e-03, -1.13516056e-04,\n",
              "        6.93849409e-04, -9.67155275e-05,  5.15466867e-04,  1.34255383e-04,\n",
              "        6.52430847e-05,  0.00000000e+00,  0.00000000e+00,  2.78838222e-15])"
            ]
          },
          "metadata": {},
          "execution_count": 15
        }
      ]
    },
    {
      "cell_type": "code",
      "source": [
        "pca.components_.shape"
      ],
      "metadata": {
        "colab": {
          "base_uri": "https://localhost:8080/"
        },
        "id": "pUgTHvJ8c1Af",
        "outputId": "a3523fcc-be12-4fe6-9eb5-c1d48b8231c3"
      },
      "execution_count": 16,
      "outputs": [
        {
          "output_type": "execute_result",
          "data": {
            "text/plain": [
              "(64, 64)"
            ]
          },
          "metadata": {},
          "execution_count": 16
        }
      ]
    },
    {
      "cell_type": "code",
      "source": [
        "X[0]"
      ],
      "metadata": {
        "id": "dsFkZiaeMzrI"
      },
      "execution_count": null,
      "outputs": []
    },
    {
      "cell_type": "code",
      "source": [
        "X_pca.shape"
      ],
      "metadata": {
        "id": "ekCEPyPfM85F"
      },
      "execution_count": null,
      "outputs": []
    },
    {
      "cell_type": "code",
      "source": [
        "np.sum(pca.explained_variance_ratio_)"
      ],
      "metadata": {
        "colab": {
          "base_uri": "https://localhost:8080/"
        },
        "id": "85WPu6wFNQUq",
        "outputId": "8816fd5f-bf14-44fc-fe4a-922c2eff38e5"
      },
      "execution_count": 17,
      "outputs": [
        {
          "output_type": "execute_result",
          "data": {
            "text/plain": [
              "0.9999999999999998"
            ]
          },
          "metadata": {},
          "execution_count": 17
        }
      ]
    },
    {
      "cell_type": "code",
      "source": [
        "(pca.explained_variance_ratio_)"
      ],
      "metadata": {
        "colab": {
          "base_uri": "https://localhost:8080/"
        },
        "id": "pezse2iwM2-r",
        "outputId": "bba0b224-28a3-43c4-9c6d-4abd95ff9a3b"
      },
      "execution_count": 18,
      "outputs": [
        {
          "output_type": "execute_result",
          "data": {
            "text/plain": [
              "array([1.48905936e-01, 1.36187712e-01, 1.17945938e-01, 8.40997942e-02,\n",
              "       5.78241466e-02, 4.91691032e-02, 4.31598701e-02, 3.66137258e-02,\n",
              "       3.35324810e-02, 3.07880621e-02, 2.37234084e-02, 2.27269657e-02,\n",
              "       1.82186331e-02, 1.77385494e-02, 1.46710109e-02, 1.40971560e-02,\n",
              "       1.31858920e-02, 1.24813782e-02, 1.01771796e-02, 9.05617439e-03,\n",
              "       8.89538461e-03, 7.97123157e-03, 7.67493255e-03, 7.22903569e-03,\n",
              "       6.95888851e-03, 5.96081458e-03, 5.75614688e-03, 5.15157582e-03,\n",
              "       4.89539777e-03, 4.28887968e-03, 3.73606048e-03, 3.53274223e-03,\n",
              "       3.36683986e-03, 3.28029851e-03, 3.08320884e-03, 2.93778629e-03,\n",
              "       2.56588609e-03, 2.27742397e-03, 2.22277922e-03, 2.11430393e-03,\n",
              "       1.89909062e-03, 1.58652907e-03, 1.51159934e-03, 1.40578764e-03,\n",
              "       1.16622290e-03, 1.07492521e-03, 9.64053065e-04, 7.74630271e-04,\n",
              "       5.57211553e-04, 4.04330693e-04, 2.09916327e-04, 8.24797098e-05,\n",
              "       5.25149980e-05, 5.05243719e-05, 3.29961363e-05, 1.24365445e-05,\n",
              "       7.04827911e-06, 3.01432139e-06, 1.06230800e-06, 5.50074587e-07,\n",
              "       3.42905702e-07, 9.50687638e-34, 9.50687638e-34, 9.36179501e-34])"
            ]
          },
          "metadata": {},
          "execution_count": 18
        }
      ]
    },
    {
      "cell_type": "code",
      "source": [
        "np.cumsum(np.round(pca.explained_variance_ratio_,3))"
      ],
      "metadata": {
        "colab": {
          "base_uri": "https://localhost:8080/"
        },
        "id": "UYwVKVolVnGN",
        "outputId": "a5f5563a-7a92-478f-8782-7e383b7a2bc6"
      },
      "execution_count": 20,
      "outputs": [
        {
          "output_type": "execute_result",
          "data": {
            "text/plain": [
              "array([0.149, 0.285, 0.403, 0.487, 0.545, 0.594, 0.637, 0.674, 0.708,\n",
              "       0.739, 0.763, 0.786, 0.804, 0.822, 0.837, 0.851, 0.864, 0.876,\n",
              "       0.886, 0.895, 0.904, 0.912, 0.92 , 0.927, 0.934, 0.94 , 0.946,\n",
              "       0.951, 0.956, 0.96 , 0.964, 0.968, 0.971, 0.974, 0.977, 0.98 ,\n",
              "       0.983, 0.985, 0.987, 0.989, 0.991, 0.993, 0.995, 0.996, 0.997,\n",
              "       0.998, 0.999, 1.   , 1.001, 1.001, 1.001, 1.001, 1.001, 1.001,\n",
              "       1.001, 1.001, 1.001, 1.001, 1.001, 1.001, 1.001, 1.001, 1.001,\n",
              "       1.001])"
            ]
          },
          "metadata": {},
          "execution_count": 20
        }
      ]
    },
    {
      "cell_type": "code",
      "source": [
        "pca = PCA(n_components=20)\n",
        "X_pca = pca.fit_transform(X)"
      ],
      "metadata": {
        "id": "wacyA4CJNhTU"
      },
      "execution_count": 21,
      "outputs": []
    },
    {
      "cell_type": "code",
      "source": [
        "X_pca.shape"
      ],
      "metadata": {
        "colab": {
          "base_uri": "https://localhost:8080/"
        },
        "id": "5_Fk8I_fN7aT",
        "outputId": "c5c0bb7d-b54c-4069-89d2-4c165ebf7018"
      },
      "execution_count": 22,
      "outputs": [
        {
          "output_type": "execute_result",
          "data": {
            "text/plain": [
              "(1797, 20)"
            ]
          },
          "metadata": {},
          "execution_count": 22
        }
      ]
    },
    {
      "cell_type": "code",
      "source": [
        "np.sum(pca.explained_variance_ratio_)"
      ],
      "metadata": {
        "colab": {
          "base_uri": "https://localhost:8080/"
        },
        "id": "fQ9NOAV2N80t",
        "outputId": "99981493-6530-4a07-a14f-04e4f64cd549"
      },
      "execution_count": 23,
      "outputs": [
        {
          "output_type": "execute_result",
          "data": {
            "text/plain": [
              "0.8942961358751447"
            ]
          },
          "metadata": {},
          "execution_count": 23
        }
      ]
    },
    {
      "cell_type": "code",
      "source": [
        "X_pca_inverse = pca.inverse_transform(X_pca)"
      ],
      "metadata": {
        "id": "pITjdZzMdch6"
      },
      "execution_count": 24,
      "outputs": []
    },
    {
      "cell_type": "code",
      "source": [
        "X_pca_inverse[0]"
      ],
      "metadata": {
        "colab": {
          "base_uri": "https://localhost:8080/"
        },
        "id": "m3nAbg7fdsD4",
        "outputId": "013a2a52-ef14-403e-cf9f-ab0937ab4d6c"
      },
      "execution_count": 25,
      "outputs": [
        {
          "output_type": "execute_result",
          "data": {
            "text/plain": [
              "array([-1.04846059e-17,  4.00732818e-03,  3.21942448e-01,  8.22577315e-01,\n",
              "        5.54118280e-01,  1.53469870e-01,  1.53956750e-01,  4.51425615e-02,\n",
              "       -6.22261003e-04,  2.62083372e-02,  8.82283832e-01,  8.27675179e-01,\n",
              "        6.84465518e-01,  7.38528286e-01,  2.91878494e-01,  4.04695425e-02,\n",
              "       -8.98530716e-05,  1.44256053e-01,  9.25414841e-01,  1.64304240e-01,\n",
              "        6.84705437e-02,  7.95463401e-01,  4.11319007e-01,  1.42685678e-02,\n",
              "       -8.51792776e-05,  2.59197702e-01,  7.25172955e-01, -1.48652338e-02,\n",
              "       -8.51503578e-02,  5.64452698e-01,  4.72850032e-01,  6.04547537e-04,\n",
              "        0.00000000e+00,  3.31797624e-01,  5.76796652e-01, -3.71725884e-02,\n",
              "        5.62155622e-03,  5.68681340e-01,  4.03777924e-01,  0.00000000e+00,\n",
              "        5.35719715e-04,  2.38781030e-01,  7.08618158e-01, -6.32940030e-02,\n",
              "        1.00667299e-01,  7.43520234e-01,  3.21843164e-01, -4.96881758e-03,\n",
              "        1.44277514e-03,  9.57582178e-02,  8.41325232e-01,  4.02472710e-01,\n",
              "        5.31752358e-01,  7.12501395e-01,  3.82051501e-02, -2.20573412e-02,\n",
              "        3.29370415e-05,  7.55545404e-03,  3.28462316e-01,  9.22794343e-01,\n",
              "        7.29059954e-01,  9.12310403e-02, -1.56381544e-01, -4.53423786e-02])"
            ]
          },
          "metadata": {},
          "execution_count": 25
        }
      ]
    },
    {
      "cell_type": "code",
      "source": [
        "X[0]"
      ],
      "metadata": {
        "colab": {
          "base_uri": "https://localhost:8080/"
        },
        "id": "TFq9QHSVdt9z",
        "outputId": "0ecb0f83-b6e4-46a1-a865-e5c6f52f5f26"
      },
      "execution_count": 26,
      "outputs": [
        {
          "output_type": "execute_result",
          "data": {
            "text/plain": [
              "array([0.    , 0.    , 0.3125, 0.8125, 0.5625, 0.0625, 0.    , 0.    ,\n",
              "       0.    , 0.    , 0.8125, 0.9375, 0.625 , 0.9375, 0.3125, 0.    ,\n",
              "       0.    , 0.1875, 0.9375, 0.125 , 0.    , 0.6875, 0.5   , 0.    ,\n",
              "       0.    , 0.25  , 0.75  , 0.    , 0.    , 0.5   , 0.5   , 0.    ,\n",
              "       0.    , 0.3125, 0.5   , 0.    , 0.    , 0.5625, 0.5   , 0.    ,\n",
              "       0.    , 0.25  , 0.6875, 0.    , 0.0625, 0.75  , 0.4375, 0.    ,\n",
              "       0.    , 0.125 , 0.875 , 0.3125, 0.625 , 0.75  , 0.    , 0.    ,\n",
              "       0.    , 0.    , 0.375 , 0.8125, 0.625 , 0.    , 0.    , 0.    ])"
            ]
          },
          "metadata": {},
          "execution_count": 26
        }
      ]
    },
    {
      "cell_type": "code",
      "source": [
        "X_pca_inverse.shape"
      ],
      "metadata": {
        "id": "MbDe5HLjdnHg"
      },
      "execution_count": null,
      "outputs": []
    },
    {
      "cell_type": "code",
      "source": [
        "# training\n",
        "# model.fit(X_pca,y)"
      ],
      "metadata": {
        "id": "mu0mA4DWOC6j"
      },
      "execution_count": null,
      "outputs": []
    },
    {
      "cell_type": "code",
      "source": [],
      "metadata": {
        "id": "g0erMpFuYHPx"
      },
      "execution_count": null,
      "outputs": []
    },
    {
      "cell_type": "markdown",
      "source": [
        "# LDA"
      ],
      "metadata": {
        "id": "djm-ugqfPUwE"
      }
    },
    {
      "cell_type": "code",
      "source": [
        "from sklearn.discriminant_analysis import LinearDiscriminantAnalysis\n",
        "lda = LinearDiscriminantAnalysis(n_components=2)\n",
        "\n",
        "X_lda = lda.fit_transform(X,y)"
      ],
      "metadata": {
        "id": "r7fbo2zEPVuu"
      },
      "execution_count": null,
      "outputs": []
    },
    {
      "cell_type": "code",
      "source": [
        "X_lda.shape"
      ],
      "metadata": {
        "id": "wP_T0FTNP2py"
      },
      "execution_count": null,
      "outputs": []
    },
    {
      "cell_type": "code",
      "source": [
        "lda = LinearDiscriminantAnalysis()\n",
        "\n",
        "X_lda = lda.fit_transform(X,y)\n",
        "X_lda.shape"
      ],
      "metadata": {
        "id": "j94_qdbUP9DS"
      },
      "execution_count": null,
      "outputs": []
    },
    {
      "cell_type": "code",
      "source": [
        "from sklearn.tree import DecisionTreeClassifier\n",
        "tree = DecisionTreeClassifier()\n",
        "tree.fit(X_lda,y)"
      ],
      "metadata": {
        "id": "yGAhjNWhQdYc"
      },
      "execution_count": null,
      "outputs": []
    },
    {
      "cell_type": "code",
      "source": [],
      "metadata": {
        "id": "DtQFUZ1eouPI"
      },
      "execution_count": null,
      "outputs": []
    }
  ]
}