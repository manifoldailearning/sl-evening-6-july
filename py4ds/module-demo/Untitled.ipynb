{
 "cells": [
  {
   "cell_type": "code",
   "execution_count": 1,
   "id": "2556afe1-e7ba-4e94-935f-3da7d26fc352",
   "metadata": {},
   "outputs": [],
   "source": [
    "import numpy as np # package\n",
    "# module ?\n",
    "import math # module\n",
    "# module is a python file (.py) and has pre created code,\n",
    "# you will create modules so that you can reuse it"
   ]
  },
  {
   "cell_type": "code",
   "execution_count": 2,
   "id": "544e89e8-f453-4099-9544-9b862e07494e",
   "metadata": {},
   "outputs": [
    {
     "data": {
      "text/plain": [
       "-0.5440211108893698"
      ]
     },
     "execution_count": 2,
     "metadata": {},
     "output_type": "execute_result"
    }
   ],
   "source": [
    "math.sin(10)"
   ]
  },
  {
   "cell_type": "code",
   "execution_count": 3,
   "id": "35d306ee-826c-4f96-affc-017e95336e6c",
   "metadata": {},
   "outputs": [
    {
     "data": {
      "text/plain": [
       "3.141592653589793"
      ]
     },
     "execution_count": 3,
     "metadata": {},
     "output_type": "execute_result"
    }
   ],
   "source": [
    "math.pi "
   ]
  },
  {
   "cell_type": "code",
   "execution_count": 4,
   "id": "19b6003f-a060-4912-8ac1-eee9d8279cd9",
   "metadata": {},
   "outputs": [],
   "source": [
    "import mymodule"
   ]
  },
  {
   "cell_type": "code",
   "execution_count": 5,
   "id": "8db16e06-1088-4188-9424-23bcd9c033bd",
   "metadata": {},
   "outputs": [
    {
     "data": {
      "text/plain": [
       "'nachiketh'"
      ]
     },
     "execution_count": 5,
     "metadata": {},
     "output_type": "execute_result"
    }
   ],
   "source": [
    "mymodule.name"
   ]
  },
  {
   "cell_type": "code",
   "execution_count": 6,
   "id": "148b1567-57a8-496a-9273-799cae2d5d07",
   "metadata": {},
   "outputs": [
    {
     "data": {
      "text/plain": [
       "'Good morning'"
      ]
     },
     "execution_count": 6,
     "metadata": {},
     "output_type": "execute_result"
    }
   ],
   "source": [
    "mymodule.welcome()"
   ]
  },
  {
   "cell_type": "code",
   "execution_count": null,
   "id": "90bc2ce8-21e6-4e8c-8748-9c77429d00d3",
   "metadata": {},
   "outputs": [],
   "source": [
    "# Package\n",
    "# collection of modules"
   ]
  },
  {
   "cell_type": "code",
   "execution_count": 5,
   "id": "585c72e7-b0ef-4af7-a390-b9afac590398",
   "metadata": {},
   "outputs": [],
   "source": [
    "import mymodule"
   ]
  },
  {
   "cell_type": "code",
   "execution_count": 4,
   "id": "9a316d41-5721-45c8-af23-8d157fefacb0",
   "metadata": {},
   "outputs": [
    {
     "data": {
      "text/plain": [
       "'nachiketh'"
      ]
     },
     "execution_count": 4,
     "metadata": {},
     "output_type": "execute_result"
    }
   ],
   "source": [
    "mymodule.name"
   ]
  },
  {
   "cell_type": "code",
   "execution_count": null,
   "id": "98937246-80b9-4e1a-b6e1-c4fa53b311bc",
   "metadata": {},
   "outputs": [],
   "source": []
  }
 ],
 "metadata": {
  "kernelspec": {
   "display_name": "Python 3 (ipykernel)",
   "language": "python",
   "name": "python3"
  },
  "language_info": {
   "codemirror_mode": {
    "name": "ipython",
    "version": 3
   },
   "file_extension": ".py",
   "mimetype": "text/x-python",
   "name": "python",
   "nbconvert_exporter": "python",
   "pygments_lexer": "ipython3",
   "version": "3.11.7"
  }
 },
 "nbformat": 4,
 "nbformat_minor": 5
}
