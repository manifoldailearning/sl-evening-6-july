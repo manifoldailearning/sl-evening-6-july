{
  "cells": [
    {
      "cell_type": "code",
      "execution_count": 1,
      "metadata": {
        "colab": {
          "base_uri": "https://localhost:8080/"
        },
        "id": "yqyLUYg5sUhK",
        "outputId": "2d23f813-5cc5-4b04-81fc-476d0263c018"
      },
      "outputs": [
        {
          "output_type": "stream",
          "name": "stdout",
          "text": [
            "Collecting openai\n",
            "  Downloading openai-1.37.1-py3-none-any.whl.metadata (22 kB)\n",
            "Requirement already satisfied: anyio<5,>=3.5.0 in /usr/local/lib/python3.10/dist-packages (from openai) (3.7.1)\n",
            "Requirement already satisfied: distro<2,>=1.7.0 in /usr/lib/python3/dist-packages (from openai) (1.7.0)\n",
            "Collecting httpx<1,>=0.23.0 (from openai)\n",
            "  Downloading httpx-0.27.0-py3-none-any.whl.metadata (7.2 kB)\n",
            "Requirement already satisfied: pydantic<3,>=1.9.0 in /usr/local/lib/python3.10/dist-packages (from openai) (2.8.2)\n",
            "Requirement already satisfied: sniffio in /usr/local/lib/python3.10/dist-packages (from openai) (1.3.1)\n",
            "Requirement already satisfied: tqdm>4 in /usr/local/lib/python3.10/dist-packages (from openai) (4.66.4)\n",
            "Requirement already satisfied: typing-extensions<5,>=4.7 in /usr/local/lib/python3.10/dist-packages (from openai) (4.12.2)\n",
            "Requirement already satisfied: idna>=2.8 in /usr/local/lib/python3.10/dist-packages (from anyio<5,>=3.5.0->openai) (3.7)\n",
            "Requirement already satisfied: exceptiongroup in /usr/local/lib/python3.10/dist-packages (from anyio<5,>=3.5.0->openai) (1.2.2)\n",
            "Requirement already satisfied: certifi in /usr/local/lib/python3.10/dist-packages (from httpx<1,>=0.23.0->openai) (2024.7.4)\n",
            "Collecting httpcore==1.* (from httpx<1,>=0.23.0->openai)\n",
            "  Downloading httpcore-1.0.5-py3-none-any.whl.metadata (20 kB)\n",
            "Collecting h11<0.15,>=0.13 (from httpcore==1.*->httpx<1,>=0.23.0->openai)\n",
            "  Downloading h11-0.14.0-py3-none-any.whl.metadata (8.2 kB)\n",
            "Requirement already satisfied: annotated-types>=0.4.0 in /usr/local/lib/python3.10/dist-packages (from pydantic<3,>=1.9.0->openai) (0.7.0)\n",
            "Requirement already satisfied: pydantic-core==2.20.1 in /usr/local/lib/python3.10/dist-packages (from pydantic<3,>=1.9.0->openai) (2.20.1)\n",
            "Downloading openai-1.37.1-py3-none-any.whl (337 kB)\n",
            "\u001b[2K   \u001b[90m━━━━━━━━━━━━━━━━━━━━━━━━━━━━━━━━━━━━━━━━\u001b[0m \u001b[32m337.0/337.0 kB\u001b[0m \u001b[31m12.6 MB/s\u001b[0m eta \u001b[36m0:00:00\u001b[0m\n",
            "\u001b[?25hDownloading httpx-0.27.0-py3-none-any.whl (75 kB)\n",
            "\u001b[2K   \u001b[90m━━━━━━━━━━━━━━━━━━━━━━━━━━━━━━━━━━━━━━━━\u001b[0m \u001b[32m75.6/75.6 kB\u001b[0m \u001b[31m3.3 MB/s\u001b[0m eta \u001b[36m0:00:00\u001b[0m\n",
            "\u001b[?25hDownloading httpcore-1.0.5-py3-none-any.whl (77 kB)\n",
            "\u001b[2K   \u001b[90m━━━━━━━━━━━━━━━━━━━━━━━━━━━━━━━━━━━━━━━━\u001b[0m \u001b[32m77.9/77.9 kB\u001b[0m \u001b[31m2.7 MB/s\u001b[0m eta \u001b[36m0:00:00\u001b[0m\n",
            "\u001b[?25hDownloading h11-0.14.0-py3-none-any.whl (58 kB)\n",
            "\u001b[2K   \u001b[90m━━━━━━━━━━━━━━━━━━━━━━━━━━━━━━━━━━━━━━━━\u001b[0m \u001b[32m58.3/58.3 kB\u001b[0m \u001b[31m1.4 MB/s\u001b[0m eta \u001b[36m0:00:00\u001b[0m\n",
            "\u001b[?25hInstalling collected packages: h11, httpcore, httpx, openai\n",
            "Successfully installed h11-0.14.0 httpcore-1.0.5 httpx-0.27.0 openai-1.37.1\n"
          ]
        }
      ],
      "source": [
        "!pip install openai"
      ]
    },
    {
      "cell_type": "code",
      "execution_count": 2,
      "metadata": {
        "id": "cK0YPnzVsbhO",
        "colab": {
          "base_uri": "https://localhost:8080/"
        },
        "outputId": "244678ae-9040-4117-d4e1-c4ed47f08689"
      },
      "outputs": [
        {
          "output_type": "execute_result",
          "data": {
            "text/plain": [
              "<openai.OpenAI at 0x7f35c8434f40>"
            ]
          },
          "metadata": {},
          "execution_count": 2
        }
      ],
      "source": [
        "from openai import OpenAI\n",
        "client = OpenAI(api_key = \"api-key\")\n",
        "client"
      ]
    },
    {
      "cell_type": "code",
      "execution_count": 3,
      "metadata": {
        "id": "v6BgrO7PsbVQ",
        "colab": {
          "base_uri": "https://localhost:8080/"
        },
        "outputId": "9084fd90-9038-426e-cf7f-1dcc08b0c925"
      },
      "outputs": [
        {
          "output_type": "execute_result",
          "data": {
            "text/plain": [
              "Thread(id='thread_bmVYUcmIEaT8yQqsEAVM91VY', created_at=1722179900, metadata={}, object='thread', tool_resources=ToolResources(code_interpreter=None, file_search=None))"
            ]
          },
          "metadata": {},
          "execution_count": 3
        }
      ],
      "source": [
        "thread = client.beta.threads.create()\n",
        "thread"
      ]
    },
    {
      "cell_type": "code",
      "execution_count": 4,
      "metadata": {
        "id": "HWceqG1qwRor"
      },
      "outputs": [],
      "source": [
        "assistant_id = \"assistant-id\""
      ]
    },
    {
      "cell_type": "code",
      "source": [
        "message = client.beta.threads.messages.create(\n",
        "    thread_id=thread.id,\n",
        "    role=\"user\",\n",
        "    content=\"does it include practice test?\"\n",
        ")"
      ],
      "metadata": {
        "id": "XA33qyXk_5gY"
      },
      "execution_count": 11,
      "outputs": []
    },
    {
      "cell_type": "code",
      "execution_count": 12,
      "metadata": {
        "id": "n167t7_bvzWc"
      },
      "outputs": [],
      "source": [
        "run = client.beta.threads.runs.create(\n",
        "  thread_id=thread.id,\n",
        "  assistant_id=assistant_id\n",
        ")"
      ]
    },
    {
      "cell_type": "code",
      "source": [
        "thread.id"
      ],
      "metadata": {
        "colab": {
          "base_uri": "https://localhost:8080/",
          "height": 35
        },
        "id": "MGjzD7NCAvYs",
        "outputId": "36eae7a5-98e2-4a6a-c679-61072b8737ad"
      },
      "execution_count": 13,
      "outputs": [
        {
          "output_type": "execute_result",
          "data": {
            "text/plain": [
              "'thread_bmVYUcmIEaT8yQqsEAVM91VY'"
            ],
            "application/vnd.google.colaboratory.intrinsic+json": {
              "type": "string"
            }
          },
          "metadata": {},
          "execution_count": 13
        }
      ]
    },
    {
      "cell_type": "code",
      "execution_count": 14,
      "metadata": {
        "id": "xDFA3GpAwVs1"
      },
      "outputs": [],
      "source": [
        "run = client.beta.threads.runs.retrieve(\n",
        "  thread_id=thread.id,\n",
        "  run_id=run.id\n",
        ")"
      ]
    },
    {
      "cell_type": "code",
      "execution_count": 15,
      "metadata": {
        "id": "LTxbm44dwa9G",
        "colab": {
          "base_uri": "https://localhost:8080/",
          "height": 35
        },
        "outputId": "248c45e3-f58f-4fa8-d867-f2404137081c"
      },
      "outputs": [
        {
          "output_type": "execute_result",
          "data": {
            "text/plain": [
              "'completed'"
            ],
            "application/vnd.google.colaboratory.intrinsic+json": {
              "type": "string"
            }
          },
          "metadata": {},
          "execution_count": 15
        }
      ],
      "source": [
        "run.status"
      ]
    },
    {
      "cell_type": "code",
      "execution_count": 16,
      "metadata": {
        "id": "k2gaGxZ8whye",
        "colab": {
          "base_uri": "https://localhost:8080/"
        },
        "outputId": "ea7eb391-59c6-42fc-fb78-1a2085187a27"
      },
      "outputs": [
        {
          "output_type": "execute_result",
          "data": {
            "text/plain": [
              "SyncCursorPage[Message](data=[Message(id='msg_DGg3o45r18ohXEiaPOaF9eRM', assistant_id='asst_QkfwyMaiMdP5dxMADFqoc4Tw', attachments=[], completed_at=None, content=[TextContentBlock(text=Text(annotations=[FileCitationAnnotation(end_index=294, file_citation=FileCitation(file_id='file-62UHbgjifGg5mTLFUxrNLfbo'), start_index=282, text='【8:0†source】', type='file_citation'), FileCitationAnnotation(end_index=306, file_citation=FileCitation(file_id='file-62UHbgjifGg5mTLFUxrNLfbo'), start_index=294, text='【8:1†source】', type='file_citation'), FileCitationAnnotation(end_index=318, file_citation=FileCitation(file_id='file-62UHbgjifGg5mTLFUxrNLfbo'), start_index=306, text='【8:2†source】', type='file_citation'), FileCitationAnnotation(end_index=330, file_citation=FileCitation(file_id='file-62UHbgjifGg5mTLFUxrNLfbo'), start_index=318, text='【8:6†source】', type='file_citation')], value='Yes, the AWS Certified AI Practitioner course includes practice tests. These practice tests feature realistic exam simulations, comprehensive coverage of all topics, detailed explanations for both correct and incorrect answers, performance tracking, and an exam readiness assessment【8:0†source】【8:1†source】【8:2†source】【8:6†source】.'), type='text')], created_at=1722180144, incomplete_at=None, incomplete_details=None, metadata={}, object='thread.message', role='assistant', run_id='run_MISZcBzeBnQbWpJs0AlwXgtD', status=None, thread_id='thread_bmVYUcmIEaT8yQqsEAVM91VY'), Message(id='msg_v0DEAlKhCucumUqKoE1uqiZP', assistant_id=None, attachments=[], completed_at=None, content=[TextContentBlock(text=Text(annotations=[], value='does it include practice test?'), type='text')], created_at=1722180141, incomplete_at=None, incomplete_details=None, metadata={}, object='thread.message', role='user', run_id=None, status=None, thread_id='thread_bmVYUcmIEaT8yQqsEAVM91VY'), Message(id='msg_CQZCaHM4zz3q6l4qIhRYEyfa', assistant_id='asst_QkfwyMaiMdP5dxMADFqoc4Tw', attachments=[], completed_at=None, content=[TextContentBlock(text=Text(annotations=[FileCitationAnnotation(end_index=290, file_citation=FileCitation(file_id='file-62UHbgjifGg5mTLFUxrNLfbo'), start_index=278, text='【4:2†source】', type='file_citation'), FileCitationAnnotation(end_index=302, file_citation=FileCitation(file_id='file-62UHbgjifGg5mTLFUxrNLfbo'), start_index=290, text='【4:3†source】', type='file_citation')], value='Once you enroll in the AWS Certified AI Practitioner course, you will gain immediate access to the course materials. You can access these materials online through various devices, including computers, laptops, tablets, and smartphones, as long as you have an internet connection【4:2†source】【4:3†source】.'), type='text')], created_at=1722179970, incomplete_at=None, incomplete_details=None, metadata={}, object='thread.message', role='assistant', run_id='run_a1INNy8wuvb5a0q2qnlo8GCG', status=None, thread_id='thread_bmVYUcmIEaT8yQqsEAVM91VY'), Message(id='msg_A0vQpOqzNp2PV2CXo5R6qx1M', assistant_id=None, attachments=[], completed_at=None, content=[TextContentBlock(text=Text(annotations=[], value='When will the course be available for me?'), type='text')], created_at=1722179959, incomplete_at=None, incomplete_details=None, metadata={}, object='thread.message', role='user', run_id=None, status=None, thread_id='thread_bmVYUcmIEaT8yQqsEAVM91VY')], object='list', first_id='msg_DGg3o45r18ohXEiaPOaF9eRM', last_id='msg_A0vQpOqzNp2PV2CXo5R6qx1M', has_more=False)"
            ]
          },
          "metadata": {},
          "execution_count": 16
        }
      ],
      "source": [
        "messages = client.beta.threads.messages.list(thread_id=thread.id)\n",
        "messages"
      ]
    },
    {
      "cell_type": "code",
      "execution_count": 17,
      "metadata": {
        "id": "bhIPBLQ4wvc2",
        "colab": {
          "base_uri": "https://localhost:8080/"
        },
        "outputId": "2727671e-2c3d-4794-93b8-7e7fe471f8c5"
      },
      "outputs": [
        {
          "output_type": "stream",
          "name": "stdout",
          "text": [
            "Yes, the AWS Certified AI Practitioner course includes practice tests. These practice tests feature realistic exam simulations, comprehensive coverage of all topics, detailed explanations for both correct and incorrect answers, performance tracking, and an exam readiness assessment【8:0†source】【8:1†source】【8:2†source】【8:6†source】.\n"
          ]
        }
      ],
      "source": [
        "while True:\n",
        "    run = client.beta.threads.runs.retrieve(thread_id=thread.id, run_id=run.id)\n",
        "    if run.status==\"completed\":\n",
        "        messages = client.beta.threads.messages.list(thread_id=thread.id)\n",
        "        latest_message = messages.data[0]\n",
        "        text = latest_message.content[0].text.value\n",
        "        print(text)\n",
        "        break;"
      ]
    },
    {
      "cell_type": "code",
      "execution_count": null,
      "metadata": {
        "id": "Y13Gor4ZxLe3"
      },
      "outputs": [],
      "source": []
    }
  ],
  "metadata": {
    "colab": {
      "provenance": []
    },
    "kernelspec": {
      "display_name": "Python 3",
      "name": "python3"
    },
    "language_info": {
      "name": "python"
    }
  },
  "nbformat": 4,
  "nbformat_minor": 0
}