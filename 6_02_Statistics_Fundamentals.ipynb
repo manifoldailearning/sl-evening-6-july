{
  "cells": [
    {
      "cell_type": "markdown",
      "id": "4219a4ea",
      "metadata": {
        "id": "4219a4ea"
      },
      "source": [
        "# <b>Statistics Fundamentals</b>"
      ]
    },
    {
      "cell_type": "markdown",
      "id": "tDnzDntZRdZK",
      "metadata": {
        "id": "tDnzDntZRdZK"
      },
      "source": [
        "## __Agenda__"
      ]
    },
    {
      "cell_type": "markdown",
      "id": "3WbDfEseRNpE",
      "metadata": {
        "id": "3WbDfEseRNpE"
      },
      "source": [
        "* Importance of Statistics for Data Science:\n",
        "  * What Is Statistics?\n",
        "  * Common Terms Used in Statistics\n",
        "  * Statistics Types\n",
        "* Types of Data\n",
        "* Measures of Central Tendency\n",
        "* Measures of Dispersion\n",
        "  * Range\n",
        "  * Interquartile Range\n",
        "  * Standard Deviation\n",
        "  * Variance\n",
        "* Measures of Shape\n",
        "  * Skewness\n",
        "  * Kurtosis\n",
        "* Covariance and Correlation"
      ]
    },
    {
      "cell_type": "markdown",
      "id": "umRlLaPKQ6Dx",
      "metadata": {
        "id": "umRlLaPKQ6Dx"
      },
      "source": [
        "## __1. Importance of Statistics for Data Science__"
      ]
    },
    {
      "cell_type": "markdown",
      "id": "abe75af4",
      "metadata": {
        "id": "abe75af4"
      },
      "source": [
        "Many significant developments in statistics occurred in the past century. Thomas Bayes, Pierre Simon Laplace, and Carl Gauss notably developed probability theory, a foundational component of statistics, between the 17th and 19th centuries. Unlike the theoretical nature of probability theory, statistics is an applied branch of science focused on data analysis.\n",
        "\n"
      ]
    },
    {
      "cell_type": "markdown",
      "id": "467a8c42",
      "metadata": {
        "id": "467a8c42"
      },
      "source": [
        "In this lesson, let's explore the different concepts of statistics and their importance in data science.\n"
      ]
    },
    {
      "cell_type": "markdown",
      "id": "12f78826",
      "metadata": {
        "id": "12f78826"
      },
      "source": [
        "- The first step of any data science project is to explore data.\n",
        "- Classical statistics focuses exclusively on Inference, which is a set of procedures to draw conclusions about large populations by studying small samples."
      ]
    },
    {
      "cell_type": "markdown",
      "id": "57416abf",
      "metadata": {
        "id": "57416abf"
      },
      "source": [
        "New technologies, increased access to large datasets, and expanded use of quantitative analysis across various disciplines have driven this growth.\n",
        "\n"
      ]
    },
    {
      "cell_type": "markdown",
      "id": "628b825a",
      "metadata": {
        "id": "628b825a"
      },
      "source": [
        "### __1.1 What Is Statistics?__"
      ]
    },
    {
      "cell_type": "markdown",
      "id": "2a63c6ce",
      "metadata": {
        "id": "2a63c6ce"
      },
      "source": [
        "Statistics is a discipline that deals with methodologies to collect, prepare, analyze, and interpret conclusions from the data. You can mine the raw data to find patterns using statistical concepts.\n",
        "![statpreparecollect.PNG](https://labcontent.simplicdn.net/data-content/content-assets/Data_and_AI/ADSP_Images/Lesson_06_Maths_and_Stats/Statistics_Fundamentals/Image1.png)\n"
      ]
    },
    {
      "cell_type": "markdown",
      "id": "033d1aca",
      "metadata": {
        "id": "033d1aca"
      },
      "source": [
        "By combining statistical analysis with domain expertise, you can interpret these patterns and use the findings for decision-making in real-world situations.The ultimate goal is to create value for an organization.\n"
      ]
    },
    {
      "cell_type": "markdown",
      "id": "68595329",
      "metadata": {
        "id": "68595329"
      },
      "source": [
        "\n",
        "\n",
        "\n",
        "\n",
        "![statisceimagee.jpg](https://s3.us-east-1.amazonaws.com/static2.simplilearn.com/lms/testpaper_images/ADSP/Advanced_Statistics/Probimages/Statistics_Fundamentals/statisceimagee.jpg)\n",
        "\n",
        "\n",
        "\n",
        "Data science combines computer science and statistics.\n",
        "A thorough understanding of statistics is vital for developing a strong intuition for machine learning algorithms.\n",
        "\n",
        "\n"
      ]
    },
    {
      "cell_type": "markdown",
      "id": "9ffe677a",
      "metadata": {
        "id": "9ffe677a"
      },
      "source": [
        "### __1.2 Common Terms Used in Statistics__\n"
      ]
    },
    {
      "cell_type": "markdown",
      "id": "d857cbfb",
      "metadata": {
        "id": "d857cbfb"
      },
      "source": [
        "\n",
        "- <b> Population and Sample: </b> The population is the complete data pool from which a sample is drawn for further analysis. The sample is a subset of the population.\n",
        "\n",
        "-  <b> Measurement and Sample Data: </b>A measurement is a number or attribute calculated for each member of the population or sample. The measurements of the sample members are collectively called sample data.  \n",
        "-  <b> Parameter:</b> It is a characteristic of the population that you want to estimate or test, such as the population mean.\n",
        "-  <b> Variable: </b> A variable is something that can take on different values in the dataset.\n",
        "-  <b> Distribution:</b> It refers to how sample data is spread across a range of values."
      ]
    },
    {
      "cell_type": "markdown",
      "id": "1f9e576f",
      "metadata": {
        "id": "1f9e576f"
      },
      "source": [
        "### __1.3 Statistics Types__"
      ]
    },
    {
      "cell_type": "markdown",
      "id": "7e1995a6",
      "metadata": {
        "id": "7e1995a6"
      },
      "source": [
        "![link text](https://labcontent.simplicdn.net/data-content/content-assets/Data_and_AI/ADSP_Images/Lesson_06_Maths_and_Stats/Statistics_Fundamentals/Image_1.png)"
      ]
    },
    {
      "cell_type": "markdown",
      "id": "6f604d08",
      "metadata": {
        "id": "6f604d08"
      },
      "source": [
        "- #### <b>  Descriptive Statistics </b>\n",
        "\n",
        "It is a branch of statistics that involves organizing, displaying, and describing data. It involves using numbers (numerical facts, figures, or information) to describe phenomena, a process referred to as descriptive statistics.\n",
        "\n",
        "\n"
      ]
    },
    {
      "cell_type": "markdown",
      "id": "6514c102",
      "metadata": {
        "id": "6514c102"
      },
      "source": [
        "\n",
        "- #### <b>  Inferential Statistics</b>\n",
        "\n",
        "It is a branch of statistics that involves drawing conclusions about a population based on the information obtained from a sample taken from that population.\n",
        "\n",
        "**Note:** Inferential statistics make inferences from data, whereas descriptive statistics describe what's happening with the data.\n"
      ]
    },
    {
      "cell_type": "markdown",
      "id": "ffeeed6f",
      "metadata": {
        "id": "ffeeed6f"
      },
      "source": [
        "#### __Example__"
      ]
    },
    {
      "cell_type": "markdown",
      "id": "f4b8efd8",
      "metadata": {
        "id": "f4b8efd8"
      },
      "source": [
        "\n",
        "\n",
        "When estimating the number of automobiles produced in a month, you must consider the entire output as the population. Within this population, a subset of cars undergoes inspection for quality characteristics such as mileage per gallon of gasoline, forming a sample. The average mileage of all cars represents a parameter, while the average lifespan of the inspected sample is considered a statistic.\n",
        "\n",
        "\n",
        "\n",
        "![automobileexample-2.PNG](https://s3.us-east-1.amazonaws.com/static2.simplilearn.com/lms/testpaper_images/ADSP/Advanced_Statistics/Probimages/Statistics_Fundamentals/automobileexample.PNG)\n",
        "\n",
        "\n",
        "If you deal with descriptive statistics here, it will include the selection of a sample, the presentation of sample data as diagrams or tables, and the computation of the value of a statistic.\n",
        "\n",
        "\n",
        "Inferential statistics is utilized for making generalizations about a population based on a sample. For example, it can be used to determine whether the average fuel efficiency of all cars in a population is at least 23 miles per gallon based on data from a studied sample."
      ]
    },
    {
      "cell_type": "markdown",
      "id": "16a53284",
      "metadata": {
        "id": "16a53284"
      },
      "source": [
        "\n",
        "- #### <b> Predictive Statistics</b>\n",
        "\n",
        "It is defined as the science of extracting information from data\n",
        "and using it to predict trends, behavior patterns, or relationships between characteristics.\n"
      ]
    },
    {
      "cell_type": "markdown",
      "id": "dea94a60",
      "metadata": {
        "id": "dea94a60"
      },
      "source": [
        "#### __Example 1__"
      ]
    },
    {
      "cell_type": "markdown",
      "id": "cf2d9f19",
      "metadata": {
        "id": "cf2d9f19"
      },
      "source": [
        "The data recording the number of residents in a city over several years can be used to predict the city's future population. This prediction is valuable for estimating future infrastructure demands. Often, data on two or more characteristics shows relationships. Understanding these relationships allows for predictions about one characteristic based on the known values of another."
      ]
    },
    {
      "cell_type": "markdown",
      "id": "7050052f",
      "metadata": {
        "id": "7050052f"
      },
      "source": [
        "![datacategorizationexampe.PNG](https://s3.us-east-1.amazonaws.com/static2.simplilearn.com/lms/testpaper_images/ADSP/Advanced_Statistics/Probimages/Statistics_Fundamentals/datacategorizationexampe.PNG)"
      ]
    },
    {
      "cell_type": "markdown",
      "id": "e1b460d3",
      "metadata": {
        "id": "e1b460d3"
      },
      "source": [
        "#### __Example 2__"
      ]
    },
    {
      "cell_type": "markdown",
      "id": "aae2eae7",
      "metadata": {
        "id": "aae2eae7"
      },
      "source": [
        "\n",
        "The demand for spares in the forthcoming years can be predicted by evaluating the sales of cars during the past few years."
      ]
    },
    {
      "cell_type": "markdown",
      "id": "b80b5f13",
      "metadata": {
        "id": "b80b5f13"
      },
      "source": [
        "![carsales.PNG](https://s3.us-east-1.amazonaws.com/static2.simplilearn.com/lms/testpaper_images/ADSP/Advanced_Statistics/Probimages/Statistics_Fundamentals/carsales.PNG)"
      ]
    },
    {
      "cell_type": "markdown",
      "id": "e7c932e6",
      "metadata": {
        "id": "e7c932e6"
      },
      "source": [
        "## __2. Types of Data__"
      ]
    },
    {
      "cell_type": "markdown",
      "id": "8d18f742",
      "metadata": {
        "id": "8d18f742"
      },
      "source": [
        "\n",
        "\n",
        "#### <b> 2.1 Categorical Data </b>\n",
        "It represents characteristics such as a person’s gender, marital status, or the types of movies they like.\n",
        "- It can also take numerical values, such as __1__  indicating male and __2__  indicating female, but these numbers don’t have mathematical meaning."
      ]
    },
    {
      "cell_type": "markdown",
      "id": "37515129",
      "metadata": {
        "id": "37515129"
      },
      "source": [
        "#### __2.2 Numerical Data__\n",
        "It represents the data as a measurement, such as a person’s height, weight, IQ, or blood\n",
        "pressure.\n",
        "- It includes data that cannot be counted, such as the number of stocks owned by a person.\n"
      ]
    },
    {
      "cell_type": "markdown",
      "id": "87a2d0b6",
      "metadata": {
        "id": "87a2d0b6"
      },
      "source": [
        "## __3. Measures of Central Tendency__"
      ]
    },
    {
      "cell_type": "markdown",
      "id": "0a94081a",
      "metadata": {
        "id": "0a94081a"
      },
      "source": [
        "A measure of central tendency is a summary that describes the central position in a dataset.\n",
        "- These measures indicate the central location of a distribution, revealing where most values fall.\n",
        "\n",
        "In statistics, the three most common measures of central tendency are the mean, median, and mode. Each of these measures\n",
        "calculates the location of the central point using a different method.\n"
      ]
    },
    {
      "cell_type": "markdown",
      "id": "a5266806",
      "metadata": {
        "id": "a5266806"
      },
      "source": [
        "\n",
        "### <b> 3.1 Mean</b>\n",
        "It is the most frequently utilized measure of central tendency and is applicable to both continuous and discrete datasets.\n",
        "\n",
        "To calculate the mean, add all the numbers and divide the result by the number of data points.\n",
        "\n",
        "<b> Note: </b>The mean is sensitive to outliers and skewed data.\n",
        "\n",
        "\n",
        "\n",
        "\n",
        "\n",
        "\n"
      ]
    },
    {
      "cell_type": "markdown",
      "id": "41c4ae90",
      "metadata": {
        "id": "41c4ae90"
      },
      "source": [
        "Suppose there is a set consisting of n numbers. The mean (average) of this set is calculated by summing all these numbers and then dividing the total by n, the number of elements in the set. The formula for the mean is:\n"
      ]
    },
    {
      "cell_type": "markdown",
      "id": "780793fd",
      "metadata": {
        "id": "780793fd",
        "outputId": "9bb2cd44-f39b-4770-9df0-f34898f878db"
      },
      "source": [
        "\n",
        "\n",
        "![mean.png](https://s3.us-east-1.amazonaws.com/static2.simplilearn.com/lms/testpaper_images/ADSP/Advanced_Statistics/Probimages/Statistics_Fundamentals/mean.png)"
      ]
    },
    {
      "cell_type": "markdown",
      "source": [
        "Where:\n",
        "\n",
        "x̄ is the mean.\n",
        "\n",
        "n is the number of values.\n"
      ],
      "metadata": {
        "id": "e7vp0kiGfpve"
      },
      "id": "e7vp0kiGfpve"
    },
    {
      "cell_type": "markdown",
      "id": "f1f40b6f",
      "metadata": {
        "id": "f1f40b6f"
      },
      "source": [
        "#### <b>Example:</b>\n",
        "\n",
        "The mean of the seven numbers 4, 89, 54, -7, -9, 27, and 5 is given by (4+89+54-7-9+27)/7 = 158/7 = 23.28"
      ]
    },
    {
      "cell_type": "markdown",
      "id": "R0mzs8AWgLJP",
      "metadata": {
        "id": "R0mzs8AWgLJP"
      },
      "source": [
        "### __Implementation of Finding the Mean in Python Code__"
      ]
    },
    {
      "cell_type": "code",
      "execution_count": 22,
      "id": "739417f3",
      "metadata": {
        "colab": {
          "base_uri": "https://localhost:8080/"
        },
        "id": "739417f3",
        "outputId": "5468384e-4339-49ee-e941-2f9ef0ba0b39"
      },
      "outputs": [
        {
          "output_type": "execute_result",
          "data": {
            "text/plain": [
              "23.285714285714285"
            ]
          },
          "metadata": {},
          "execution_count": 22
        }
      ],
      "source": [
        "import statistics\n",
        "statistics.mean([4,89,54,-7,-9,27,5])"
      ]
    },
    {
      "cell_type": "markdown",
      "source": [
        "Thus, the mean of 4, 89, 54, -7, -9, and 27 is 23.28."
      ],
      "metadata": {
        "id": "aI_HpzClgWgO"
      },
      "id": "aI_HpzClgWgO"
    },
    {
      "cell_type": "markdown",
      "id": "3633df12",
      "metadata": {
        "id": "3633df12"
      },
      "source": [
        "### <b> 3.2 Median </b>\n",
        "The median is the middle number obtained by arranging the data in ascending or descending order.\n",
        "\n",
        "- In datasets with an odd number of points, the median is the exact middle value.\n",
        "- In datasets with an even number of points, the median is the average of the two central values.\n",
        "- In both cases, the median is notably less sensitive to outliers and skewed data.\n",
        "\n",
        "\n",
        "<b> Example 1</b>\n",
        "\n",
        "Consider the dataset with odd numbers x = 5, 76, 98, 32, 1, -6, 34, 3, -65\n",
        "\n",
        "Step 1: Arrange the numbers in ascending order, that is, -65, -6, 1, 3, 5, 32, 34, 76, 98.\n",
        "\n",
        "Step 2: The middle number is the fifth number, as there are nine numbers in total. So, the median of the given dataset is 5.\n",
        "\n",
        "<b> Example 2</b>\n",
        "\n",
        "Consider the dataset with even numbers x = 5, 76, 98, 32, 1, -6, 34, 3, -65, 99\n",
        "\n",
        "Step 1: Arrange the numbers in ascending order, that is, -65, -6, 1, 3, 5, 32, 34, 76, 98, 99.\n",
        "\n",
        "Step 2: Identify the middle numbers 5 and 32.\n",
        "\n",
        "Step 3: To calculate the median, take the average of two middle values, that is, 5 and 32. So, the median of the given dataset is (5+32)/2 = 18.5\n",
        "\n"
      ]
    },
    {
      "cell_type": "markdown",
      "id": "otG01EpLgn8b",
      "metadata": {
        "id": "otG01EpLgn8b"
      },
      "source": [
        "### __Implementation of Finding the Median in Python Code__"
      ]
    },
    {
      "cell_type": "code",
      "execution_count": null,
      "id": "3cd2ed12",
      "metadata": {
        "id": "3cd2ed12",
        "outputId": "6025cab5-2646-479b-8381-a4d41d867833",
        "colab": {
          "base_uri": "https://localhost:8080/"
        }
      },
      "outputs": [
        {
          "output_type": "execute_result",
          "data": {
            "text/plain": [
              "5.5"
            ]
          },
          "metadata": {},
          "execution_count": 2
        }
      ],
      "source": [
        " x = (1, 2, 3, 4, 5, 6, 7, 8, 9, 10)\n",
        "statistics.median(x)"
      ]
    },
    {
      "cell_type": "markdown",
      "source": [
        "Thus, the median of 1, 2, 3, 4, 5, 6, 7, 8, 9, 10 is 5.5."
      ],
      "metadata": {
        "id": "VOEIT8n5geda"
      },
      "id": "VOEIT8n5geda"
    },
    {
      "cell_type": "markdown",
      "id": "89932302",
      "metadata": {
        "id": "89932302"
      },
      "source": [
        "### <b> 3.3 Mode </b>\n",
        "Mode is the most frequently occurring data point in the set.\n",
        "\n",
        "- The mode is adaptable and applicable to both numerical and categorical data.\n",
        "- The mode is sometimes misleading, potentially not reflecting the true center of a distribution.\n",
        "- The mode is occasionally distant, representing the most frequent data points, which might be far from the actual central point.\n",
        "\n",
        "**Example:** Gather data on cell phone brand preferences by surveying 100 individuals to analyze and draw inferences from the categorical data.\n",
        "\n",
        "\n",
        "<b> Preferred brand</b> $\\;\\;\\;\\;\\;\\;$ <b>No. of people</b>\n",
        "\n",
        "Nokia $\\;\\;\\;\\;\\;\\;\\;\\;\\;\\;\\;\\;\\;\\;\\;\\;\\;\\;\\;\\;\\;\\;\\;\\;$  12\n",
        "\n",
        "Realme $\\;\\;\\;\\;\\;\\;\\;\\;\\;\\;\\;\\;\\;\\;\\;\\;\\;\\;\\;\\;\\;\\;$ 32\n",
        "\n",
        "Apple $\\;\\;\\;\\;\\;\\;\\;\\;\\;\\;\\;\\;\\;\\;\\;\\;\\;\\;\\;\\;\\;\\;\\;\\;$  10\n",
        "\n",
        "Samsung $\\;\\;\\;\\;\\;\\;\\;\\;\\;\\;\\;\\;\\;\\;\\;\\;\\;\\;\\;\\;$ 36\n",
        "\n",
        "Oppo  $\\;\\;\\;\\;\\;\\;\\;\\;\\;\\;\\;\\;\\;\\;\\;\\;\\;\\;\\;\\;\\;\\;\\;\\;\\;$   4\n",
        "\n",
        "Vivo  $\\;\\;\\;\\;\\;\\;\\;\\;\\;\\;\\;\\;\\;\\;\\;\\;\\;\\;\\;\\;\\;\\;\\;\\;\\;\\;\\;$   6\n",
        "\n",
        "In the above data, the most frequently occurring preference is Samsung, which indicates the value of mode."
      ]
    },
    {
      "cell_type": "markdown",
      "source": [],
      "metadata": {
        "id": "EnQkG1pAoKjT"
      },
      "id": "EnQkG1pAoKjT"
    },
    {
      "cell_type": "markdown",
      "id": "5d1deceb-e9c8-419c-af5e-37c3fff40d0b",
      "metadata": {
        "id": "5d1deceb-e9c8-419c-af5e-37c3fff40d0b"
      },
      "source": [
        "### __Implementation of Finding the Mode in Python Code__"
      ]
    },
    {
      "cell_type": "code",
      "execution_count": null,
      "id": "7a69b337",
      "metadata": {
        "id": "7a69b337",
        "outputId": "20091200-0f50-46a9-bcf2-308465646ac6",
        "colab": {
          "base_uri": "https://localhost:8080/",
          "height": 35
        }
      },
      "outputs": [
        {
          "output_type": "execute_result",
          "data": {
            "text/plain": [
              "'Samsung'"
            ],
            "application/vnd.google.colaboratory.intrinsic+json": {
              "type": "string"
            }
          },
          "metadata": {},
          "execution_count": 3
        }
      ],
      "source": [
        "x = ['Nokia','Samsung','Samsung','Apple','Oppo','Vivo']\n",
        "statistics.mode(x)"
      ]
    },
    {
      "cell_type": "markdown",
      "source": [
        "Thus, the mode of 'Nokia', 'Samsung', 'Samsung', 'Apple', 'Oppo', 'Vivo' is Samsung."
      ],
      "metadata": {
        "id": "IYSQ0p-JgmHK"
      },
      "id": "IYSQ0p-JgmHK"
    },
    {
      "cell_type": "markdown",
      "id": "fe5a5c55",
      "metadata": {
        "id": "fe5a5c55"
      },
      "source": [
        "## __4. Measures of Dispersion__"
      ]
    },
    {
      "cell_type": "markdown",
      "id": "85867d7a",
      "metadata": {
        "id": "85867d7a"
      },
      "source": [
        "It is also known as measures of variability and is used to characterize the extent of spread or diversity in a dataset. At times, relying exclusively on measures of central tendency falls short of providing a thorough understanding of a dataset's distribution."
      ]
    },
    {
      "cell_type": "markdown",
      "id": "c44a5b73",
      "metadata": {
        "id": "c44a5b73"
      },
      "source": [
        "### <b>4.1 Range</b>\n",
        "Range is the difference between the largest and smallest data points in the set. It is sensitive to outliers and does\n",
        "not use every data point in the set. It also provides maximum and minimum values in the set.\n",
        "\n",
        "Since it is based on two extreme observations, it gets affected by fluctuations.Thus, the range is not a reliable\n",
        "measure of dispersion.\n"
      ]
    },
    {
      "cell_type": "markdown",
      "source": [
        "\n",
        "<center>$Range = X_{max}$ – $X_{min}$</center>"
      ],
      "metadata": {
        "id": "Jibzpott4YBU"
      },
      "id": "Jibzpott4YBU"
    },
    {
      "cell_type": "markdown",
      "source": [
        "Where:\n",
        "\n",
        "Xmax is the maximum element in the set.\n",
        "\n",
        "Xmin is the minimum element in the set."
      ],
      "metadata": {
        "id": "PzW9fK9ZhHfF"
      },
      "id": "PzW9fK9ZhHfF"
    },
    {
      "cell_type": "markdown",
      "source": [
        "### <b>4.2 Percentile</b>\n",
        "\n",
        "A percentile is a statistical measure used to indicate the value below which a given percentage of observations falls in a dataset. In simpler terms, it tells you how a particular value compares to the rest of the data.\n",
        "\n",
        "For example, if a student scores in the 80th percentile on a standardized test, it means that their score is higher than 80% of all other test takers."
      ],
      "metadata": {
        "id": "uVHn8p_x23n9"
      },
      "id": "uVHn8p_x23n9"
    },
    {
      "cell_type": "markdown",
      "source": [
        "### <b>4.3 Quartile</b>\n",
        "\n",
        "Quartiles are statistical measures used to divide a dataset into four equal parts or quarters. They are calculated by arranging the data in ascending order and then dividing it into four equal-sized groups.\n",
        "\n",
        "There are three quartiles, which are:\n",
        "\n",
        "First quartile (Q1): This is the value below which 25% of the data fall. In other words, 25% of the data points are less than or equal to Q1.\n",
        "\n",
        "Second quartile (Q2): This is the median of the dataset. It divides the data into two halves, with 50% of the data points falling below it and 50% above it.\n",
        "\n",
        "Third quartile (Q3): This is the value below which 75% of the data fall. 75% of the data points are less than or equal to Q3."
      ],
      "metadata": {
        "id": "SG3uCw5e33aq"
      },
      "id": "SG3uCw5e33aq"
    },
    {
      "cell_type": "markdown",
      "id": "7a9a42ec",
      "metadata": {
        "id": "7a9a42ec"
      },
      "source": [
        "### <b>4.4 Interquartile Range</b>\n",
        "Interquartile range is the difference between the 25th and 75th percentiles.\n",
        "\n",
        "- It describes the middle 50% of the observations, and if they are spaced widely apart, their interquartile range will be large.\n",
        "- It is useful even if the extreme values are not accurate, as it is insensitive to them.\n",
        "- It is not amenable to mathematical manipulation.\n",
        "\n",
        "<center><b>$IQR = Q_3 – Q_1$</b></center>\n",
        "\n",
        "Where:\n",
        "\n",
        "Q3 is third quartile.\n",
        "\n",
        "Q1 is first quartile.\n",
        "\n",
        "**Example**:\n",
        "Consider the following dataset, where the values are arranged in ascending order:\n",
        "[10, 15, 20, 25, 30, 35, 40, 50, 70, 100]\n",
        "\n",
        "The 25th percentile = average of 2nd and 3rd values = (15 + 20)/2 = 17.5.\n",
        "\n",
        "The 75th percentile = average of the 7th and 8th values = (40 + 50)/2 = 45.\n",
        "\n",
        "The interquartile range = 45 - 17.5 = 27.5.\n"
      ]
    },
    {
      "cell_type": "markdown",
      "source": [
        "![link text](https://labcontent.simplicdn.net/data-content/content-assets/Data_and_AI/ADSP_Images/Lesson_05_Data_Visualization/boxplot.png)"
      ],
      "metadata": {
        "id": "bdhexcxsW-m8"
      },
      "id": "bdhexcxsW-m8"
    },
    {
      "cell_type": "code",
      "source": [
        "#calculate inter quartile range\n",
        "\n",
        "import numpy as np\n",
        "\n",
        "# Example dataset\n",
        "data = [10, 20, 30, 40, 50, 60, 70, 80, 90, 100]\n",
        "# Calculating quartiles\n",
        "q1 = np.percentile(data, 25)\n",
        "q3 = np.percentile(data, 75)\n",
        "q2 = np.percentile(data, 50)\n",
        "\n",
        "# Calculating Interquartile Range (IQR)\n",
        "iqr = q3 - q1\n",
        "\n",
        "print(\"Q1:\", q1)\n",
        "print(\"Q2:\", q2)\n",
        "print(\"Q3:\", q3)\n",
        "print(\"Interquartile Range (IQR):\", iqr)"
      ],
      "metadata": {
        "colab": {
          "base_uri": "https://localhost:8080/"
        },
        "id": "Z9I7eBdX4srm",
        "outputId": "037b84d7-a357-4f88-d3db-e94bd389da89"
      },
      "id": "Z9I7eBdX4srm",
      "execution_count": 2,
      "outputs": [
        {
          "output_type": "stream",
          "name": "stdout",
          "text": [
            "Q1: 32.5\n",
            "Q2: 55.0\n",
            "Q3: 77.5\n",
            "Interquartile Range (IQR): 45.0\n"
          ]
        }
      ]
    },
    {
      "cell_type": "code",
      "source": [
        "import pandas as pd\n",
        "ser1 = pd.Series(data = [10, 20, 30, 40, 50, 60, 70, 80, 90, 100])\n",
        "ser1.quantile([0.25, 0.5, 0.75],interpolation=\"linear\")"
      ],
      "metadata": {
        "colab": {
          "base_uri": "https://localhost:8080/"
        },
        "id": "MqiTlbT15w4N",
        "outputId": "d90dce91-f3fc-4d46-ffe5-380182e4b235"
      },
      "id": "MqiTlbT15w4N",
      "execution_count": 10,
      "outputs": [
        {
          "output_type": "execute_result",
          "data": {
            "text/plain": [
              "0.25    32.5\n",
              "0.50    55.0\n",
              "0.75    77.5\n",
              "dtype: float64"
            ]
          },
          "metadata": {},
          "execution_count": 10
        }
      ]
    },
    {
      "cell_type": "markdown",
      "id": "a33e51d7",
      "metadata": {
        "id": "a33e51d7"
      },
      "source": [
        "### <b> 4.5 Standard Deviation</b>\n",
        "Standard Deviation (SD) is the most popular measure of dispersion. It measures the spread of data around the mean.\n",
        "It is defined as the square root of the sum of squares of the deviation around the mean divided by the number of observations.\n",
        "\n",
        "\n",
        "\n",
        "\n",
        "\n"
      ]
    },
    {
      "cell_type": "markdown",
      "id": "ca46a934",
      "metadata": {
        "id": "ca46a934"
      },
      "source": [
        "![link text](https://labcontent.simplicdn.net/data-content/content-assets/Data_and_AI/ADSP_Images/Lesson_05_Data_Visualization/standard_deviation.png)"
      ]
    },
    {
      "cell_type": "markdown",
      "source": [
        "Where:\n",
        "\n",
        "N is the total number of observations.\n",
        "\n",
        "X̄ is the mean of all the observations.\n",
        "\n",
        "Xi is the value of the observations.\n",
        "\n"
      ],
      "metadata": {
        "id": "OVb0IXclh3bU"
      },
      "id": "OVb0IXclh3bU"
    },
    {
      "cell_type": "markdown",
      "id": "pfgP4q66uULb",
      "metadata": {
        "id": "pfgP4q66uULb"
      },
      "source": [
        "### __Python Code Implementation for Standard Deviation__"
      ]
    },
    {
      "cell_type": "code",
      "execution_count": null,
      "id": "59ac1b87",
      "metadata": {
        "id": "59ac1b87",
        "outputId": "628bfd6a-9b81-4dcb-8eb3-164a1c5ef3e6",
        "colab": {
          "base_uri": "https://localhost:8080/"
        }
      },
      "outputs": [
        {
          "output_type": "stream",
          "name": "stdout",
          "text": [
            "1.5811388300841898\n"
          ]
        }
      ],
      "source": [
        "x = [1, 2, 3, 4, 5]\n",
        "print(statistics.stdev(x))"
      ]
    },
    {
      "cell_type": "code",
      "source": [
        "x = np.array([2,3,4,5,6])"
      ],
      "metadata": {
        "id": "Ohgq2ot_7oTM"
      },
      "id": "Ohgq2ot_7oTM",
      "execution_count": 11,
      "outputs": []
    },
    {
      "cell_type": "code",
      "source": [
        "x.mean()"
      ],
      "metadata": {
        "colab": {
          "base_uri": "https://localhost:8080/"
        },
        "id": "JIl2uxJa7r6c",
        "outputId": "30f37018-8802-4dd1-cd5a-471752761186"
      },
      "id": "JIl2uxJa7r6c",
      "execution_count": 12,
      "outputs": [
        {
          "output_type": "execute_result",
          "data": {
            "text/plain": [
              "4.0"
            ]
          },
          "metadata": {},
          "execution_count": 12
        }
      ]
    },
    {
      "cell_type": "code",
      "source": [
        "(((x - x.mean())**2).sum())/len(x) # square of std"
      ],
      "metadata": {
        "colab": {
          "base_uri": "https://localhost:8080/"
        },
        "id": "wfPIKEbV7tQx",
        "outputId": "3fc97f1a-6f71-4d78-af47-129a8840ea39"
      },
      "id": "wfPIKEbV7tQx",
      "execution_count": 15,
      "outputs": [
        {
          "output_type": "execute_result",
          "data": {
            "text/plain": [
              "2.0"
            ]
          },
          "metadata": {},
          "execution_count": 15
        }
      ]
    },
    {
      "cell_type": "code",
      "source": [
        "from math import sqrt\n",
        "\n",
        "sqrt((((x - x.mean())**2).sum())/len(x))"
      ],
      "metadata": {
        "colab": {
          "base_uri": "https://localhost:8080/"
        },
        "id": "zyqdk43C76Dn",
        "outputId": "afee7b91-fadb-4d13-e871-abd3a66096af"
      },
      "id": "zyqdk43C76Dn",
      "execution_count": 16,
      "outputs": [
        {
          "output_type": "execute_result",
          "data": {
            "text/plain": [
              "1.4142135623730951"
            ]
          },
          "metadata": {},
          "execution_count": 16
        }
      ]
    },
    {
      "cell_type": "code",
      "source": [
        "x.std()"
      ],
      "metadata": {
        "colab": {
          "base_uri": "https://localhost:8080/"
        },
        "id": "o4SNmy_q8ICu",
        "outputId": "4bdaa497-d261-4a8e-e67a-c014bbf22ab1"
      },
      "id": "o4SNmy_q8ICu",
      "execution_count": 19,
      "outputs": [
        {
          "output_type": "execute_result",
          "data": {
            "text/plain": [
              "1.4142135623730951"
            ]
          },
          "metadata": {},
          "execution_count": 19
        }
      ]
    },
    {
      "cell_type": "markdown",
      "id": "d7f3bd87",
      "metadata": {
        "id": "d7f3bd87"
      },
      "source": [
        "### <b>4.6 Variance </b>\n",
        "Variance is defined as the average of the squared differences from the mean.\n",
        "\n",
        "![link text](https://labcontent.simplicdn.net/data-content/content-assets/Data_and_AI/ADSP_Images/Lesson_05_Data_Visualization/variance.png)"
      ]
    },
    {
      "cell_type": "markdown",
      "source": [
        "Where:\n",
        "\n",
        "N is the total number of observations.\n",
        "\n",
        "X̄ is the mean of all the observations.\n",
        "\n",
        "Xi is the value of the observation.\n"
      ],
      "metadata": {
        "id": "9SyjCs8gidUV"
      },
      "id": "9SyjCs8gidUV"
    },
    {
      "cell_type": "markdown",
      "id": "TRxHlNuBvlyn",
      "metadata": {
        "id": "TRxHlNuBvlyn"
      },
      "source": [
        "### __Python Code Implementation for Variance__"
      ]
    },
    {
      "cell_type": "code",
      "execution_count": 23,
      "id": "00ff987e",
      "metadata": {
        "id": "00ff987e",
        "outputId": "8f17d71b-e77f-4853-847a-ad8cb84a3f1b",
        "colab": {
          "base_uri": "https://localhost:8080/"
        }
      },
      "outputs": [
        {
          "output_type": "stream",
          "name": "stdout",
          "text": [
            "2.5\n"
          ]
        }
      ],
      "source": [
        "x = [1, 2, 3, 4, 5]\n",
        "print(statistics.variance(x))"
      ]
    },
    {
      "cell_type": "markdown",
      "source": [
        "Thus, the variance of 1, 2, 3, 4, 5 is 2.5."
      ],
      "metadata": {
        "id": "ilBTlOCkj4i7"
      },
      "id": "ilBTlOCkj4i7"
    },
    {
      "cell_type": "markdown",
      "id": "3f1637c7",
      "metadata": {
        "id": "3f1637c7"
      },
      "source": [
        "### __4.7 Standard Deviation and Variance for Population and Sample Data__\n",
        "\n"
      ]
    },
    {
      "cell_type": "markdown",
      "id": "d7ecc761",
      "metadata": {
        "id": "d7ecc761"
      },
      "source": [
        "Suppose there are N values present in a dataset. To calculate the standard deviation and variance, use:\n",
        "\n",
        "1) Population divided by N when calculating the SD and variance\n",
        "\n",
        "2) Sample divided by n-1 when calculating the SD and variance\n",
        "\n",
        "The formula for calculating standard deviation and variance changes while dealing with\n",
        "population and sample data.\n",
        "\n",
        "![SD_and_v.png](https://s3.us-east-1.amazonaws.com/static2.simplilearn.com/lms/testpaper_images/ADSP/Advanced_Statistics/Probimages/Statistics_Fundamentals/SD_and_v.png)"
      ]
    },
    {
      "cell_type": "markdown",
      "id": "68a84739",
      "metadata": {
        "id": "68a84739"
      },
      "source": [
        "## __5. Measures of Shape (Skewness)__"
      ]
    },
    {
      "cell_type": "markdown",
      "id": "48c89bed",
      "metadata": {
        "id": "48c89bed"
      },
      "source": [
        "### __5.1 What Is Skewness?__"
      ]
    },
    {
      "cell_type": "markdown",
      "source": [
        "![link text](https://labcontent.simplicdn.net/data-content/content-assets/Data_and_AI/ADSP_Images/Lesson_05_Data_Visualization/skew.png)"
      ],
      "metadata": {
        "id": "4AcNj7NSnVTW"
      },
      "id": "4AcNj7NSnVTW"
    },
    {
      "cell_type": "markdown",
      "id": "689c7196",
      "metadata": {
        "id": "689c7196"
      },
      "source": [
        "Skewness is defined as the amount and direction of deviation from horizontal symmetry.\n",
        "\n",
        "![link text](https://labcontent.simplicdn.net/data-content/content-assets/Data_and_AI/ADSP_Images/Lesson_05_Data_Visualization/variance.png)\n",
        "\n",
        "For many statistical inferences, it's ideal for the distribution to be normal or nearly normal. Skewness is vital, as it helps you test for normality. In a normal distribution, skewness is 0. So, if the skewness is close to 0, it is a nearly normal distribution.\n",
        "\n",
        "\n",
        "\n",
        "\n"
      ]
    },
    {
      "cell_type": "markdown",
      "id": "1a4685b5",
      "metadata": {
        "id": "1a4685b5"
      },
      "source": [
        "#### __Formula for Skewness__"
      ]
    },
    {
      "cell_type": "markdown",
      "id": "807a91dc",
      "metadata": {
        "id": "807a91dc"
      },
      "source": [
        "For univariate data $X_1,X_2,.....X_n$, skewness is given by:"
      ]
    },
    {
      "cell_type": "markdown",
      "id": "6b059e0b",
      "metadata": {
        "id": "6b059e0b"
      },
      "source": [
        "![link text](https://labcontent.simplicdn.net/data-content/content-assets/Data_and_AI/ADSP_Images/Lesson_06_Maths_and_Stats/Statistics_Fundamentals/Image_2.png)"
      ]
    },
    {
      "cell_type": "markdown",
      "id": "41290ab8",
      "metadata": {
        "id": "41290ab8"
      },
      "source": [
        "In a normal distribution, the graph appears as a classical, symmetrical __bell-shaped curve.__ The mean, average, and\n",
        "mode or maximum point on the curve are equal, and the tails on either side of the curve are exact mirror images of\n",
        "each other.\n",
        "\n",
        "When a distribution is skewed to the left, the tail on the curve's left side is longer than the tail on the\n",
        "right side, and the mean is less than the mode. This situation is called negative skewness.\n",
        "\n",
        "When a distribution is skewed to the right, the tail on the curve's right side is longer than the tail on the left side, and the mean is greater than the mode. This situation  is called positive skewness.\n"
      ]
    },
    {
      "cell_type": "markdown",
      "id": "cea3b055",
      "metadata": {
        "id": "cea3b055"
      },
      "source": [
        "![meanmedianmode.png](https://s3.us-east-1.amazonaws.com/static2.simplilearn.com/lms/testpaper_images/ADSP/Advanced_Statistics/Probimages/Statistics_Fundamentals/Statistics_Notebookupdated/meanmedianmode.png)"
      ]
    },
    {
      "cell_type": "markdown",
      "id": "yHL4qB5stX8R",
      "metadata": {
        "id": "yHL4qB5stX8R"
      },
      "source": [
        "### __Python Code Implementation for Skewness__"
      ]
    },
    {
      "cell_type": "code",
      "execution_count": 24,
      "id": "16b2a403",
      "metadata": {
        "id": "16b2a403",
        "outputId": "43da8306-f6db-47e1-ee07-cfe6b6fa5cb7",
        "colab": {
          "base_uri": "https://localhost:8080/"
        }
      },
      "outputs": [
        {
          "output_type": "stream",
          "name": "stdout",
          "text": [
            "0.2857142857142857\n"
          ]
        }
      ],
      "source": [
        "# Importing numpy and statsmodels\n",
        "import numpy as np\n",
        "from statsmodels.stats.stattools import medcouple\n",
        "from statsmodels.stats.stattools import robust_skewness\n",
        "\n",
        "x = np.array([1, 2, 3, 4, 7, 8])\n",
        "# Using statsmodels.robust_skewness() method\n",
        "skewness = medcouple(x)\n",
        "\n",
        "print(skewness)\n"
      ]
    },
    {
      "cell_type": "markdown",
      "id": "86e2a146",
      "metadata": {
        "id": "86e2a146"
      },
      "source": [
        "### __5.2 Measures of Shape (Kurtosis)__"
      ]
    },
    {
      "cell_type": "markdown",
      "id": "dc24f034",
      "metadata": {
        "id": "dc24f034"
      },
      "source": [
        "Kurtosis measures how heavy-tailed or light-tailed the distribution is relative to a normal distribution.\n",
        "- Data with high kurtosis tend to have heavy tails or outliers.\n",
        "- If kurtosis is low, there will be no outliers.\n",
        "- A uniform distribution is an extreme case of low kurtosis.\n",
        "\n",
        "![link text](https://labcontent.simplicdn.net/data-content/content-assets/Data_and_AI/ADSP_Images/Lesson_05_Data_Visualization/kurtosis.png)"
      ]
    },
    {
      "cell_type": "markdown",
      "id": "77be9b2e",
      "metadata": {
        "id": "77be9b2e"
      },
      "source": [
        "#### __Formula for Kurtosis__"
      ]
    },
    {
      "cell_type": "markdown",
      "id": "a65bb1da",
      "metadata": {
        "id": "a65bb1da"
      },
      "source": [
        "For univariate data $X_1,X_2,.....X_n$, kurtosis is given by:"
      ]
    },
    {
      "cell_type": "markdown",
      "id": "70d0ad31",
      "metadata": {
        "id": "70d0ad31"
      },
      "source": [
        "![link text](https://labcontent.simplicdn.net/data-content/content-assets/Data_and_AI/ADSP_Images/Lesson_06_Maths_and_Stats/Statistics_Fundamentals/Image_3.png)"
      ]
    },
    {
      "cell_type": "markdown",
      "id": "dacb1293",
      "metadata": {
        "id": "dacb1293"
      },
      "source": [
        "Positive excess kurtosis means a heavy-tailed\n",
        "distribution, and negative excess kurtosis means a light-tailed distribution.  "
      ]
    },
    {
      "cell_type": "markdown",
      "id": "6aa6310d",
      "metadata": {
        "id": "6aa6310d"
      },
      "source": [
        "![positivenegativekurt.PNG](https://s3.us-east-1.amazonaws.com/static2.simplilearn.com/lms/testpaper_images/ADSP/Advanced_Statistics/Probimages/Statistics_Fundamentals/Statistics_Notebookupdated/positivenegativekurt.PNG)"
      ]
    },
    {
      "cell_type": "markdown",
      "id": "NKHiOcNht1iZ",
      "metadata": {
        "id": "NKHiOcNht1iZ"
      },
      "source": [
        "### __Python Code Implementation for Kurtosis__"
      ]
    },
    {
      "cell_type": "code",
      "execution_count": 25,
      "id": "c88efd2a",
      "metadata": {
        "id": "c88efd2a",
        "outputId": "410096c9-decc-4c8b-b4f3-cb256246bee4",
        "colab": {
          "base_uri": "https://localhost:8080/"
        }
      },
      "outputs": [
        {
          "output_type": "execute_result",
          "data": {
            "text/plain": [
              "(-0.5988228527065362,\n",
              " -0.04888458916942784,\n",
              " -0.5052271228708025,\n",
              " -0.39005747798595314)"
            ]
          },
          "metadata": {},
          "execution_count": 25
        }
      ],
      "source": [
        "import numpy as np\n",
        "\n",
        "from statsmodels.stats.stattools import robust_kurtosis\n",
        "\n",
        "x = np.array([2,4,5,7,8,9,11,15])\n",
        "\n",
        "kurtosis  = robust_kurtosis(x)\n",
        "kurtosis"
      ]
    },
    {
      "cell_type": "markdown",
      "id": "d303ee54",
      "metadata": {
        "id": "d303ee54"
      },
      "source": [
        "## __6. Covariance and Correlation__"
      ]
    },
    {
      "cell_type": "markdown",
      "id": "b7cfb1b0",
      "metadata": {
        "id": "b7cfb1b0"
      },
      "source": [
        "Covariance and correlation measure the relationship and dependency between two variables. While covariance gives\n",
        "the direction of the linear relationship, correlation gives both direction and strength. Therefore, correlation is\n",
        "a function of covariance. Furthermore, correlation values are standardized, while covariance values are not.  "
      ]
    },
    {
      "cell_type": "markdown",
      "id": "02544c9c",
      "metadata": {
        "id": "02544c9c"
      },
      "source": [
        "### __6.1 Covariance__"
      ]
    },
    {
      "cell_type": "markdown",
      "id": "54e5c238",
      "metadata": {
        "id": "54e5c238"
      },
      "source": [
        "If E[x] is the expected value or mean of sample x, the covariance of x and y is given by:"
      ]
    },
    {
      "cell_type": "markdown",
      "id": "e5c378f1",
      "metadata": {
        "id": "e5c378f1"
      },
      "source": [
        "![link text](https://labcontent.simplicdn.net/data-content/content-assets/Data_and_AI/ADSP_Images/Lesson_05_Data_Visualization/covariance.png)"
      ]
    },
    {
      "cell_type": "markdown",
      "id": "149acac6",
      "metadata": {
        "id": "149acac6"
      },
      "source": [
        "### __Covariance Formula for Population__"
      ]
    },
    {
      "cell_type": "markdown",
      "id": "526118c7",
      "metadata": {
        "id": "526118c7"
      },
      "source": [
        "![covpopu.PNG](https://s3.us-east-1.amazonaws.com/static2.simplilearn.com/lms/testpaper_images/ADSP/Advanced_Statistics/Probimages/Statistics_Fundamentals/Statistics_Notebookupdated/covpopu.PNG)"
      ]
    },
    {
      "cell_type": "markdown",
      "id": "e7959b7a",
      "metadata": {
        "id": "e7959b7a"
      },
      "source": [
        "### __Covariance Formula for Sample__"
      ]
    },
    {
      "cell_type": "markdown",
      "id": "945a5bb0",
      "metadata": {
        "id": "945a5bb0"
      },
      "source": [
        "![covsample.PNG](https://s3.us-east-1.amazonaws.com/static2.simplilearn.com/lms/testpaper_images/ADSP/Advanced_Statistics/Probimages/Statistics_Fundamentals/Statistics_Notebookupdated/covsample.PNG)"
      ]
    },
    {
      "cell_type": "markdown",
      "id": "22a1e4ca",
      "metadata": {
        "id": "22a1e4ca"
      },
      "source": [
        "Where:\n",
        "\n",
        "$x_i$ is the $i^{th}$ observation in variable x.\n",
        "\n",
        "$\\bar{x}$ is the mean for variable x.\n",
        "\n",
        "$y_i$ is the $i^{th}$ observation in variable y.\n",
        "\n",
        "$\\bar{y}$ is the mean for variable y.\n",
        "\n",
        "N is the number of observations."
      ]
    },
    {
      "cell_type": "markdown",
      "id": "ghAD1tz80JYu",
      "metadata": {
        "id": "ghAD1tz80JYu"
      },
      "source": [
        "### __Python Code Implementation of the Covariance for Two Variables__"
      ]
    },
    {
      "cell_type": "code",
      "execution_count": 26,
      "id": "fad51f43",
      "metadata": {
        "colab": {
          "base_uri": "https://localhost:8080/"
        },
        "id": "fad51f43",
        "outputId": "526e1cd4-2a6b-4553-84d8-ba700d13ee4a"
      },
      "outputs": [
        {
          "output_type": "execute_result",
          "data": {
            "text/plain": [
              "-2.5"
            ]
          },
          "metadata": {},
          "execution_count": 26
        }
      ],
      "source": [
        "import pandas as pd\n",
        "\n",
        "# Creating a DataFrame with two columns, x and y\n",
        "data = {'x': [1, 2, 3, 4, 5],\n",
        "        'y': [5, 4, 3, 2, 1]}\n",
        "df = pd.DataFrame(data)\n",
        "\n",
        "# Calculating the covariance between x and y\n",
        "cov_xy = df.cov().iloc[0, 1]\n",
        "cov_xy"
      ]
    },
    {
      "cell_type": "markdown",
      "id": "87b1cbf6",
      "metadata": {
        "id": "87b1cbf6"
      },
      "source": [
        "This negative value indicates that as values in `x` increase, values in `y` tend to decrease, and vice versa."
      ]
    },
    {
      "cell_type": "markdown",
      "id": "37f05e68",
      "metadata": {
        "id": "37f05e68"
      },
      "source": [
        "### __6.2 Correlation__"
      ]
    },
    {
      "cell_type": "markdown",
      "id": "21119ba5",
      "metadata": {
        "id": "21119ba5"
      },
      "source": [
        "The correlation coefficient is often referred to as the Pearson correlation coefficient.  \n",
        "\n",
        "The correlation coefficient between two variables is calculated by dividing their covariance by the product of their individual standard deviations. Since  standard deviation measures the absolute variability (or spread) of a data distribution, this division by the product of the standard deviations normalizes the correlation coefficient, ensuring it falls within the range of -1 to +1."
      ]
    },
    {
      "cell_type": "markdown",
      "id": "64317866",
      "metadata": {
        "id": "64317866"
      },
      "source": [
        "#### __Formula for Correlation Coefficient__"
      ]
    },
    {
      "cell_type": "markdown",
      "id": "7e40273b",
      "metadata": {
        "id": "7e40273b"
      },
      "source": [
        "![corelation.PNG](https://s3.us-east-1.amazonaws.com/static2.simplilearn.com/lms/testpaper_images/ADSP/Advanced_Statistics/Probimages/Statistics_Fundamentals/Statistics_Notebookupdated/corelation.PNG)"
      ]
    },
    {
      "cell_type": "markdown",
      "id": "a76bdf78",
      "metadata": {
        "id": "a76bdf78"
      },
      "source": [
        "Where:\n",
        "    \n",
        "$S_x$ and $S_y$ are the standard deviations of x and y, respectively.\n"
      ]
    },
    {
      "cell_type": "markdown",
      "id": "oGs5vYW38Be0",
      "metadata": {
        "id": "oGs5vYW38Be0"
      },
      "source": [
        "### __Python Code Implementation of the Correlation Coefficient for Two Variables__"
      ]
    },
    {
      "cell_type": "code",
      "execution_count": 27,
      "id": "544219fd",
      "metadata": {
        "colab": {
          "base_uri": "https://localhost:8080/"
        },
        "id": "544219fd",
        "outputId": "cd4716ea-b855-4abc-f0bf-fc11976244e5"
      },
      "outputs": [
        {
          "output_type": "execute_result",
          "data": {
            "text/plain": [
              "-1.0"
            ]
          },
          "metadata": {},
          "execution_count": 27
        }
      ],
      "source": [
        "# Creating a DataFrame with two columns, x and y\n",
        "data = {'x': [1, 2, 3, 4, 5],\n",
        "        'y': [5, 4, 3, 2, 1]}\n",
        "df = pd.DataFrame(data)\n",
        "\n",
        "# Calculating the correlation between x and y\n",
        "correlation_xy = df.corr().iloc[0, 1]\n",
        "correlation_xy"
      ]
    },
    {
      "cell_type": "markdown",
      "id": "1faf6b6a",
      "metadata": {
        "id": "1faf6b6a"
      },
      "source": [
        "This value indicates a perfect negative linear relationship between `x` and `y`; as `x` increases, `y` decreases by a proportional amount and vice versa."
      ]
    },
    {
      "cell_type": "markdown",
      "source": [
        "![image.png](data:image/png;base64,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)"
      ],
      "metadata": {
        "id": "jHx0IeYy_0uK"
      },
      "id": "jHx0IeYy_0uK"
    },
    {
      "cell_type": "code",
      "source": [],
      "metadata": {
        "id": "2oliokYv_1Jz"
      },
      "id": "2oliokYv_1Jz",
      "execution_count": null,
      "outputs": []
    }
  ],
  "metadata": {
    "colab": {
      "provenance": []
    },
    "kernelspec": {
      "display_name": "Python 3 [3.10]",
      "language": "python",
      "name": "python3"
    },
    "language_info": {
      "codemirror_mode": {
        "name": "ipython",
        "version": 3
      },
      "file_extension": ".py",
      "mimetype": "text/x-python",
      "name": "python",
      "nbconvert_exporter": "python",
      "pygments_lexer": "ipython3",
      "version": "3.10.2"
    }
  },
  "nbformat": 4,
  "nbformat_minor": 5
}