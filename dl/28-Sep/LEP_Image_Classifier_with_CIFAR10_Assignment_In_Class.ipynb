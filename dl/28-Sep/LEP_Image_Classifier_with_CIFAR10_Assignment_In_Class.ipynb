{
  "cells": [
    {
      "cell_type": "markdown",
      "metadata": {
        "id": "bvzfagrqdnYK"
      },
      "source": [
        "# __Image Classification with CIFAR10__\n",
        "\n",
        "Build a neural network-based classification model to recognize characters using the following metrics:\n",
        "\n",
        "- Use four convolution layers with a 3X3 kernel and activation function as ReLU.\n",
        "- Add two convolutional layers followed by two max pooling layers."
      ]
    },
    {
      "cell_type": "markdown",
      "metadata": {
        "id": "gIFsLj8bXZV6"
      },
      "source": [
        "\n",
        "## Steps to be followed:\n",
        "\n",
        "1. Import the necessary libraries\n",
        "2. Load and normalize the CIFAR10 training and test datasets using TensorFlow\n",
        "3. Display a batch of training images\n",
        "4. Define the convolutional neural network\n",
        "5. Compile the Model\n",
        "6. Train the network on the training data with validation split\n",
        "7. Test the network on the test data\n",
        "8. Predict a batch of test images\n",
        "9. Perform Classes on Individual Datasets"
      ]
    },
    {
      "cell_type": "markdown",
      "metadata": {
        "id": "iqG7Jl61g4g6"
      },
      "source": [
        "### Step 1: Import the necessary libraries\n"
      ]
    },
    {
      "cell_type": "code",
      "execution_count": null,
      "metadata": {
        "id": "RxTxGezeXZV-"
      },
      "outputs": [],
      "source": [
        "import tensorflow as tf\n",
        "from tensorflow.keras import layers, models\n",
        "import numpy as np\n",
        "import matplotlib.pyplot as plt"
      ]
    },
    {
      "cell_type": "markdown",
      "metadata": {
        "id": "HmXQal8KjgSb"
      },
      "source": [
        "### Step 2: Load and normalize the CIFAR10 training and test datasets using TensorFlow\n"
      ]
    },
    {
      "cell_type": "code",
      "execution_count": null,
      "metadata": {
        "id": "wi7EG7qfXZWB"
      },
      "outputs": [],
      "source": [
        "# Load the CIFAR10 training and test datasets using TensorFlow\n",
        "(train_images_raw, train_labels_raw), (test_images_raw, test_labels_raw) = tf.keras.datasets.cifar10.load_data()\n",
        "\n",
        "# Compute mean and std from the training data\n",
        "mean = np.mean(train_images_raw, axis=(0, 1, 2))\n",
        "std = np.std(train_images_raw, axis=(0, 1, 2))\n",
        "\n",
        "# Normalize the datasets\n",
        "train_images_nm = (train_images_raw - mean) / std\n",
        "test_images_nm = (test_images_raw - mean) / std\n",
        "\n",
        "# Define class names\n",
        "class_names = ['plane', 'car', 'bird', 'cat', 'deer', 'dog', 'frog', 'horse', 'ship', 'truck']"
      ]
    },
    {
      "cell_type": "markdown",
      "metadata": {
        "id": "rfAG-E3OocUL"
      },
      "source": [
        "### Step 3: Display a batch of training images"
      ]
    },
    {
      "cell_type": "code",
      "execution_count": null,
      "metadata": {
        "id": "sBTj9HTnXZWB"
      },
      "outputs": [],
      "source": [
        "# Display a batch of training images\n",
        "def imshow(img):\n",
        "    img = img * std + mean\n",
        "    plt.imshow(img.astype('uint8'))\n",
        "    plt.axis('off')\n",
        "\n",
        "def show_batch(images, labels):\n",
        "    fig, axes = plt.subplots(1, 4, figsize=(10, 10))\n",
        "    for i in range(4):\n",
        "        ax = axes[i]\n",
        "        ax.imshow((images[i] * std + mean).astype('uint8'))\n",
        "        ax.set_title(class_names[labels[i][0]])\n",
        "        ax.axis('off')\n",
        "    plt.show()\n",
        "\n",
        "# Display first batch of training images\n",
        "show_batch(train_images_nm[:4], train_labels_raw[:4])"
      ]
    },
    {
      "cell_type": "markdown",
      "metadata": {
        "id": "fR9_R6EoEPqG"
      },
      "source": [
        "**Observations:**\n",
        "\n",
        "\n",
        "\n",
        "- The output will show an image containing four different objects: two truck, a frog, and a deer.\n",
        "- This code is useful for visualizing a batch of images and their corresponding labels from a dataset."
      ]
    },
    {
      "cell_type": "markdown",
      "metadata": {
        "id": "3jHLlaYaE82I"
      },
      "source": [
        "### Step 4: Define the convolutional neural network"
      ]
    },
    {
      "cell_type": "code",
      "execution_count": null,
      "metadata": {
        "id": "0seH1HKpXZWC"
      },
      "outputs": [],
      "source": []
    },
    {
      "cell_type": "markdown",
      "metadata": {
        "id": "aGc5SFPMHMI8"
      },
      "source": [
        "### Step 5: Compile the Model"
      ]
    },
    {
      "cell_type": "code",
      "execution_count": null,
      "metadata": {
        "id": "7jBl3g7CXZWC"
      },
      "outputs": [],
      "source": []
    },
    {
      "cell_type": "markdown",
      "metadata": {
        "id": "uxEyO7T7I74g"
      },
      "source": [
        "### Step 6: Train the network on the training data with validation split\n",
        "\n",
        "\n",
        "\n"
      ]
    },
    {
      "cell_type": "code",
      "execution_count": null,
      "metadata": {
        "id": "nMMUQx-fXZWD"
      },
      "outputs": [],
      "source": []
    },
    {
      "cell_type": "markdown",
      "metadata": {
        "id": "u9JEq6dULQuQ"
      },
      "source": [
        "### Step 7: Test the network on the test data\n",
        "\n",
        "\n"
      ]
    },
    {
      "cell_type": "code",
      "execution_count": null,
      "metadata": {
        "id": "hvLvgeojXZWE"
      },
      "outputs": [],
      "source": []
    },
    {
      "cell_type": "markdown",
      "source": [
        "### **Observation:**\n",
        "\n",
        "- The test accuracy (54.8%) is consistent with the training accuracy (54%) and validation accuracy (55%). This consistency suggests that the model is generalizing well and is not overfitting to the training data."
      ],
      "metadata": {
        "id": "gnqZQpzg7eTx"
      }
    },
    {
      "cell_type": "code",
      "source": [],
      "metadata": {
        "id": "VRITwFw_-0eQ"
      },
      "execution_count": null,
      "outputs": []
    }
  ],
  "metadata": {
    "colab": {
      "provenance": []
    },
    "kernelspec": {
      "display_name": "Python 3",
      "language": "python",
      "name": "python3"
    },
    "language_info": {
      "codemirror_mode": {
        "name": "ipython",
        "version": 3
      },
      "file_extension": ".py",
      "mimetype": "text/x-python",
      "name": "python",
      "nbconvert_exporter": "python",
      "pygments_lexer": "ipython3",
      "version": "3.7.3"
    }
  },
  "nbformat": 4,
  "nbformat_minor": 0
}